{
 "cells": [
  {
   "cell_type": "markdown",
   "metadata": {},
   "source": [
    "### 1. Importing Libraries\n"
   ]
  },
  {
   "cell_type": "code",
   "execution_count": 39,
   "metadata": {},
   "outputs": [],
   "source": [
    "import pandas as pd\n",
    "import numpy as np\n",
    "import seaborn as sns\n",
    "import matplotlib.pyplot as plt\n",
    "\n",
    "from sklearn.model_selection import StratifiedKFold, train_test_split\n",
    "from sklearn.metrics import (\n",
    "    roc_auc_score, accuracy_score, precision_score, f1_score,\n",
    "    confusion_matrix, ConfusionMatrixDisplay, roc_curve\n",
    ")\n",
    "from sklearn.ensemble import RandomForestClassifier\n",
    "from sklearn.preprocessing import OneHotEncoder, StandardScaler\n",
    "from sklearn.compose import ColumnTransformer\n",
    "from sklearn.pipeline import Pipeline\n",
    "from sklearn.impute import SimpleImputer\n",
    "\n",
    "import optuna\n",
    "from optuna.samplers import TPESampler\n",
    "from optuna.visualization import plot_optimization_history, plot_param_importances, plot_intermediate_values\n",
    "\n",
    "from collections import Counter\n",
    "import warnings\n",
    "import logging\n"
   ]
  },
  {
   "cell_type": "markdown",
   "metadata": {},
   "source": [
    "#### Explanation\n",
    "-- pandas & numpy: For data manipulation and numerical operations.\n",
    "\n",
    "-- seaborn & matplotlib: For data visualization.\n",
    "\n",
    "-- sklearn: A comprehensive machine learning library for model building and evaluation.\n",
    "\n",
    "-- optuna: For hyperparameter optimization.\n",
    "\n",
    "-- collections.Counter: To count class distributions.\n",
    "\n",
    "-- warnings & logging: To handle and log messages and errors."
   ]
  },
  {
   "cell_type": "markdown",
   "metadata": {},
   "source": [
    "### 2. Setting Up Logging and Suppressing Warnings\n"
   ]
  },
  {
   "cell_type": "code",
   "execution_count": 40,
   "metadata": {},
   "outputs": [],
   "source": [
    "logging.basicConfig(\n",
    "    level=logging.INFO,\n",
    "    format='%(asctime)s [%(levelname)s] %(message)s',\n",
    "    handlers=[\n",
    "        logging.StreamHandler()\n",
    "    ]\n",
    ")\n",
    "logger = logging.getLogger(__name__)\n",
    "\n",
    "warnings.filterwarnings('ignore')\n"
   ]
  },
  {
   "cell_type": "markdown",
   "metadata": {},
   "source": [
    "#### Explanation:\n",
    "Logging: Helps in tracking the execution flow and debugging.\n",
    "Suppressing Warnings: Keeps the output clean by hiding non-critical warnings."
   ]
  },
  {
   "cell_type": "markdown",
   "metadata": {},
   "source": [
    "### 3. Loading the Data\n"
   ]
  },
  {
   "cell_type": "code",
   "execution_count": 41,
   "metadata": {},
   "outputs": [],
   "source": [
    "\n",
    "train_data = pd.read_csv('train.csv')\n",
    "test_data = pd.read_csv('test.csv')\n"
   ]
  },
  {
   "cell_type": "markdown",
   "metadata": {},
   "source": [
    "### 4. Defining Features and Target Variable\n"
   ]
  },
  {
   "cell_type": "code",
   "execution_count": 42,
   "metadata": {},
   "outputs": [],
   "source": [
    "X = train_data.drop(columns=['id', 'smoking'])\n",
    "y = train_data['smoking']\n"
   ]
  },
  {
   "cell_type": "code",
   "execution_count": 43,
   "metadata": {},
   "outputs": [
    {
     "data": {
      "text/html": [
       "<div>\n",
       "<style scoped>\n",
       "    .dataframe tbody tr th:only-of-type {\n",
       "        vertical-align: middle;\n",
       "    }\n",
       "\n",
       "    .dataframe tbody tr th {\n",
       "        vertical-align: top;\n",
       "    }\n",
       "\n",
       "    .dataframe thead th {\n",
       "        text-align: right;\n",
       "    }\n",
       "</style>\n",
       "<table border=\"1\" class=\"dataframe\">\n",
       "  <thead>\n",
       "    <tr style=\"text-align: right;\">\n",
       "      <th></th>\n",
       "      <th>id</th>\n",
       "      <th>age</th>\n",
       "      <th>height(cm)</th>\n",
       "      <th>weight(kg)</th>\n",
       "      <th>waist(cm)</th>\n",
       "      <th>eyesight(left)</th>\n",
       "      <th>eyesight(right)</th>\n",
       "      <th>hearing(left)</th>\n",
       "      <th>hearing(right)</th>\n",
       "      <th>systolic</th>\n",
       "      <th>...</th>\n",
       "      <th>HDL</th>\n",
       "      <th>LDL</th>\n",
       "      <th>hemoglobin</th>\n",
       "      <th>Urine protein</th>\n",
       "      <th>serum creatinine</th>\n",
       "      <th>AST</th>\n",
       "      <th>ALT</th>\n",
       "      <th>Gtp</th>\n",
       "      <th>dental caries</th>\n",
       "      <th>smoking</th>\n",
       "    </tr>\n",
       "  </thead>\n",
       "  <tbody>\n",
       "    <tr>\n",
       "      <th>0</th>\n",
       "      <td>0</td>\n",
       "      <td>55.0</td>\n",
       "      <td>170.0</td>\n",
       "      <td>80.0</td>\n",
       "      <td>92.0</td>\n",
       "      <td>1.2</td>\n",
       "      <td>0.8</td>\n",
       "      <td>1.0</td>\n",
       "      <td>1.0</td>\n",
       "      <td>129.0</td>\n",
       "      <td>...</td>\n",
       "      <td>49.0</td>\n",
       "      <td>114.0</td>\n",
       "      <td>15.4</td>\n",
       "      <td>1.0</td>\n",
       "      <td>0.9</td>\n",
       "      <td>20.0</td>\n",
       "      <td>23.0</td>\n",
       "      <td>13.0</td>\n",
       "      <td>0.0</td>\n",
       "      <td>0.0</td>\n",
       "    </tr>\n",
       "    <tr>\n",
       "      <th>1</th>\n",
       "      <td>1</td>\n",
       "      <td>30.0</td>\n",
       "      <td>170.0</td>\n",
       "      <td>80.0</td>\n",
       "      <td>94.0</td>\n",
       "      <td>1.5</td>\n",
       "      <td>1.5</td>\n",
       "      <td>1.0</td>\n",
       "      <td>1.0</td>\n",
       "      <td>128.0</td>\n",
       "      <td>...</td>\n",
       "      <td>51.0</td>\n",
       "      <td>111.0</td>\n",
       "      <td>16.2</td>\n",
       "      <td>1.0</td>\n",
       "      <td>0.9</td>\n",
       "      <td>30.0</td>\n",
       "      <td>39.0</td>\n",
       "      <td>92.0</td>\n",
       "      <td>0.0</td>\n",
       "      <td>1.0</td>\n",
       "    </tr>\n",
       "    <tr>\n",
       "      <th>2</th>\n",
       "      <td>2</td>\n",
       "      <td>45.0</td>\n",
       "      <td>170.0</td>\n",
       "      <td>75.0</td>\n",
       "      <td>84.0</td>\n",
       "      <td>1.0</td>\n",
       "      <td>1.0</td>\n",
       "      <td>1.0</td>\n",
       "      <td>1.0</td>\n",
       "      <td>124.0</td>\n",
       "      <td>...</td>\n",
       "      <td>52.0</td>\n",
       "      <td>112.0</td>\n",
       "      <td>14.6</td>\n",
       "      <td>2.0</td>\n",
       "      <td>0.9</td>\n",
       "      <td>20.0</td>\n",
       "      <td>20.0</td>\n",
       "      <td>50.0</td>\n",
       "      <td>0.0</td>\n",
       "      <td>1.0</td>\n",
       "    </tr>\n",
       "    <tr>\n",
       "      <th>3</th>\n",
       "      <td>3</td>\n",
       "      <td>55.0</td>\n",
       "      <td>150.0</td>\n",
       "      <td>55.0</td>\n",
       "      <td>85.0</td>\n",
       "      <td>0.9</td>\n",
       "      <td>0.5</td>\n",
       "      <td>1.0</td>\n",
       "      <td>1.0</td>\n",
       "      <td>123.0</td>\n",
       "      <td>...</td>\n",
       "      <td>61.0</td>\n",
       "      <td>119.0</td>\n",
       "      <td>13.4</td>\n",
       "      <td>1.0</td>\n",
       "      <td>0.8</td>\n",
       "      <td>25.0</td>\n",
       "      <td>20.0</td>\n",
       "      <td>18.0</td>\n",
       "      <td>0.0</td>\n",
       "      <td>0.0</td>\n",
       "    </tr>\n",
       "    <tr>\n",
       "      <th>4</th>\n",
       "      <td>4</td>\n",
       "      <td>45.0</td>\n",
       "      <td>160.0</td>\n",
       "      <td>55.0</td>\n",
       "      <td>72.0</td>\n",
       "      <td>0.5</td>\n",
       "      <td>0.6</td>\n",
       "      <td>1.0</td>\n",
       "      <td>1.0</td>\n",
       "      <td>117.0</td>\n",
       "      <td>...</td>\n",
       "      <td>61.0</td>\n",
       "      <td>120.0</td>\n",
       "      <td>13.9</td>\n",
       "      <td>1.0</td>\n",
       "      <td>0.7</td>\n",
       "      <td>20.0</td>\n",
       "      <td>26.0</td>\n",
       "      <td>10.0</td>\n",
       "      <td>0.0</td>\n",
       "      <td>0.0</td>\n",
       "    </tr>\n",
       "  </tbody>\n",
       "</table>\n",
       "<p>5 rows × 24 columns</p>\n",
       "</div>"
      ],
      "text/plain": [
       "   id   age  height(cm)  weight(kg)  waist(cm)  eyesight(left)  \\\n",
       "0   0  55.0       170.0        80.0       92.0             1.2   \n",
       "1   1  30.0       170.0        80.0       94.0             1.5   \n",
       "2   2  45.0       170.0        75.0       84.0             1.0   \n",
       "3   3  55.0       150.0        55.0       85.0             0.9   \n",
       "4   4  45.0       160.0        55.0       72.0             0.5   \n",
       "\n",
       "   eyesight(right)  hearing(left)  hearing(right)  systolic  ...   HDL    LDL  \\\n",
       "0              0.8            1.0             1.0     129.0  ...  49.0  114.0   \n",
       "1              1.5            1.0             1.0     128.0  ...  51.0  111.0   \n",
       "2              1.0            1.0             1.0     124.0  ...  52.0  112.0   \n",
       "3              0.5            1.0             1.0     123.0  ...  61.0  119.0   \n",
       "4              0.6            1.0             1.0     117.0  ...  61.0  120.0   \n",
       "\n",
       "   hemoglobin  Urine protein  serum creatinine   AST   ALT   Gtp  \\\n",
       "0        15.4            1.0               0.9  20.0  23.0  13.0   \n",
       "1        16.2            1.0               0.9  30.0  39.0  92.0   \n",
       "2        14.6            2.0               0.9  20.0  20.0  50.0   \n",
       "3        13.4            1.0               0.8  25.0  20.0  18.0   \n",
       "4        13.9            1.0               0.7  20.0  26.0  10.0   \n",
       "\n",
       "   dental caries  smoking  \n",
       "0            0.0      0.0  \n",
       "1            0.0      1.0  \n",
       "2            0.0      1.0  \n",
       "3            0.0      0.0  \n",
       "4            0.0      0.0  \n",
       "\n",
       "[5 rows x 24 columns]"
      ]
     },
     "execution_count": 43,
     "metadata": {},
     "output_type": "execute_result"
    }
   ],
   "source": [
    "train_data.head()\n"
   ]
  },
  {
   "cell_type": "code",
   "execution_count": 44,
   "metadata": {},
   "outputs": [
    {
     "data": {
      "text/html": [
       "<div>\n",
       "<style scoped>\n",
       "    .dataframe tbody tr th:only-of-type {\n",
       "        vertical-align: middle;\n",
       "    }\n",
       "\n",
       "    .dataframe tbody tr th {\n",
       "        vertical-align: top;\n",
       "    }\n",
       "\n",
       "    .dataframe thead th {\n",
       "        text-align: right;\n",
       "    }\n",
       "</style>\n",
       "<table border=\"1\" class=\"dataframe\">\n",
       "  <thead>\n",
       "    <tr style=\"text-align: right;\">\n",
       "      <th></th>\n",
       "      <th>id</th>\n",
       "      <th>age</th>\n",
       "      <th>height(cm)</th>\n",
       "      <th>weight(kg)</th>\n",
       "      <th>waist(cm)</th>\n",
       "      <th>eyesight(left)</th>\n",
       "      <th>eyesight(right)</th>\n",
       "      <th>hearing(left)</th>\n",
       "      <th>hearing(right)</th>\n",
       "      <th>systolic</th>\n",
       "      <th>...</th>\n",
       "      <th>HDL</th>\n",
       "      <th>LDL</th>\n",
       "      <th>hemoglobin</th>\n",
       "      <th>Urine protein</th>\n",
       "      <th>serum creatinine</th>\n",
       "      <th>AST</th>\n",
       "      <th>ALT</th>\n",
       "      <th>Gtp</th>\n",
       "      <th>dental caries</th>\n",
       "      <th>smoking</th>\n",
       "    </tr>\n",
       "  </thead>\n",
       "  <tbody>\n",
       "    <tr>\n",
       "      <th>count</th>\n",
       "      <td>15000.000000</td>\n",
       "      <td>15000.000000</td>\n",
       "      <td>15000.000000</td>\n",
       "      <td>15000.000000</td>\n",
       "      <td>15000.000000</td>\n",
       "      <td>15000.000000</td>\n",
       "      <td>15000.000000</td>\n",
       "      <td>15000.000000</td>\n",
       "      <td>15000.00000</td>\n",
       "      <td>15000.000000</td>\n",
       "      <td>...</td>\n",
       "      <td>15000.000000</td>\n",
       "      <td>15000.000000</td>\n",
       "      <td>15000.000000</td>\n",
       "      <td>15000.000000</td>\n",
       "      <td>15000.000000</td>\n",
       "      <td>15000.000000</td>\n",
       "      <td>15000.000000</td>\n",
       "      <td>15000.000000</td>\n",
       "      <td>15000.000000</td>\n",
       "      <td>15000.000000</td>\n",
       "    </tr>\n",
       "    <tr>\n",
       "      <th>mean</th>\n",
       "      <td>7499.500000</td>\n",
       "      <td>42.659667</td>\n",
       "      <td>164.669333</td>\n",
       "      <td>64.235333</td>\n",
       "      <td>80.251100</td>\n",
       "      <td>1.034373</td>\n",
       "      <td>1.029453</td>\n",
       "      <td>1.005600</td>\n",
       "      <td>1.00600</td>\n",
       "      <td>119.219133</td>\n",
       "      <td>...</td>\n",
       "      <td>57.374733</td>\n",
       "      <td>113.391200</td>\n",
       "      <td>14.505213</td>\n",
       "      <td>1.016067</td>\n",
       "      <td>0.866873</td>\n",
       "      <td>22.236600</td>\n",
       "      <td>20.859400</td>\n",
       "      <td>26.289933</td>\n",
       "      <td>0.145733</td>\n",
       "      <td>0.369133</td>\n",
       "    </tr>\n",
       "    <tr>\n",
       "      <th>std</th>\n",
       "      <td>4330.271354</td>\n",
       "      <td>10.514524</td>\n",
       "      <td>8.524211</td>\n",
       "      <td>10.999092</td>\n",
       "      <td>7.927326</td>\n",
       "      <td>0.304866</td>\n",
       "      <td>0.302373</td>\n",
       "      <td>0.074626</td>\n",
       "      <td>0.07723</td>\n",
       "      <td>11.151900</td>\n",
       "      <td>...</td>\n",
       "      <td>11.436670</td>\n",
       "      <td>18.574279</td>\n",
       "      <td>1.398364</td>\n",
       "      <td>0.160656</td>\n",
       "      <td>0.165501</td>\n",
       "      <td>5.640184</td>\n",
       "      <td>10.310916</td>\n",
       "      <td>18.685708</td>\n",
       "      <td>0.352850</td>\n",
       "      <td>0.482586</td>\n",
       "    </tr>\n",
       "    <tr>\n",
       "      <th>min</th>\n",
       "      <td>0.000000</td>\n",
       "      <td>20.000000</td>\n",
       "      <td>140.000000</td>\n",
       "      <td>40.000000</td>\n",
       "      <td>1.000000</td>\n",
       "      <td>0.100000</td>\n",
       "      <td>0.100000</td>\n",
       "      <td>1.000000</td>\n",
       "      <td>1.00000</td>\n",
       "      <td>84.000000</td>\n",
       "      <td>...</td>\n",
       "      <td>28.000000</td>\n",
       "      <td>47.000000</td>\n",
       "      <td>7.300000</td>\n",
       "      <td>1.000000</td>\n",
       "      <td>0.100000</td>\n",
       "      <td>10.000000</td>\n",
       "      <td>5.000000</td>\n",
       "      <td>6.000000</td>\n",
       "      <td>0.000000</td>\n",
       "      <td>0.000000</td>\n",
       "    </tr>\n",
       "    <tr>\n",
       "      <th>25%</th>\n",
       "      <td>3749.750000</td>\n",
       "      <td>40.000000</td>\n",
       "      <td>160.000000</td>\n",
       "      <td>55.000000</td>\n",
       "      <td>75.000000</td>\n",
       "      <td>0.900000</td>\n",
       "      <td>0.800000</td>\n",
       "      <td>1.000000</td>\n",
       "      <td>1.00000</td>\n",
       "      <td>110.000000</td>\n",
       "      <td>...</td>\n",
       "      <td>49.000000</td>\n",
       "      <td>100.000000</td>\n",
       "      <td>13.500000</td>\n",
       "      <td>1.000000</td>\n",
       "      <td>0.800000</td>\n",
       "      <td>18.000000</td>\n",
       "      <td>14.000000</td>\n",
       "      <td>15.000000</td>\n",
       "      <td>0.000000</td>\n",
       "      <td>0.000000</td>\n",
       "    </tr>\n",
       "    <tr>\n",
       "      <th>50%</th>\n",
       "      <td>7499.500000</td>\n",
       "      <td>40.000000</td>\n",
       "      <td>165.000000</td>\n",
       "      <td>65.000000</td>\n",
       "      <td>80.000000</td>\n",
       "      <td>1.000000</td>\n",
       "      <td>1.000000</td>\n",
       "      <td>1.000000</td>\n",
       "      <td>1.00000</td>\n",
       "      <td>119.000000</td>\n",
       "      <td>...</td>\n",
       "      <td>56.000000</td>\n",
       "      <td>113.000000</td>\n",
       "      <td>14.700000</td>\n",
       "      <td>1.000000</td>\n",
       "      <td>0.900000</td>\n",
       "      <td>21.000000</td>\n",
       "      <td>18.000000</td>\n",
       "      <td>21.000000</td>\n",
       "      <td>0.000000</td>\n",
       "      <td>0.000000</td>\n",
       "    </tr>\n",
       "    <tr>\n",
       "      <th>75%</th>\n",
       "      <td>11249.250000</td>\n",
       "      <td>50.000000</td>\n",
       "      <td>170.000000</td>\n",
       "      <td>70.000000</td>\n",
       "      <td>86.000000</td>\n",
       "      <td>1.200000</td>\n",
       "      <td>1.200000</td>\n",
       "      <td>1.000000</td>\n",
       "      <td>1.00000</td>\n",
       "      <td>128.000000</td>\n",
       "      <td>...</td>\n",
       "      <td>65.000000</td>\n",
       "      <td>126.000000</td>\n",
       "      <td>15.600000</td>\n",
       "      <td>1.000000</td>\n",
       "      <td>1.000000</td>\n",
       "      <td>25.000000</td>\n",
       "      <td>24.000000</td>\n",
       "      <td>31.000000</td>\n",
       "      <td>0.000000</td>\n",
       "      <td>1.000000</td>\n",
       "    </tr>\n",
       "    <tr>\n",
       "      <th>max</th>\n",
       "      <td>14999.000000</td>\n",
       "      <td>85.000000</td>\n",
       "      <td>190.000000</td>\n",
       "      <td>120.000000</td>\n",
       "      <td>117.000000</td>\n",
       "      <td>9.900000</td>\n",
       "      <td>9.900000</td>\n",
       "      <td>2.000000</td>\n",
       "      <td>2.00000</td>\n",
       "      <td>199.000000</td>\n",
       "      <td>...</td>\n",
       "      <td>107.000000</td>\n",
       "      <td>202.000000</td>\n",
       "      <td>18.800000</td>\n",
       "      <td>5.000000</td>\n",
       "      <td>1.500000</td>\n",
       "      <td>87.000000</td>\n",
       "      <td>166.000000</td>\n",
       "      <td>439.000000</td>\n",
       "      <td>1.000000</td>\n",
       "      <td>1.000000</td>\n",
       "    </tr>\n",
       "  </tbody>\n",
       "</table>\n",
       "<p>8 rows × 24 columns</p>\n",
       "</div>"
      ],
      "text/plain": [
       "                 id           age    height(cm)    weight(kg)     waist(cm)  \\\n",
       "count  15000.000000  15000.000000  15000.000000  15000.000000  15000.000000   \n",
       "mean    7499.500000     42.659667    164.669333     64.235333     80.251100   \n",
       "std     4330.271354     10.514524      8.524211     10.999092      7.927326   \n",
       "min        0.000000     20.000000    140.000000     40.000000      1.000000   \n",
       "25%     3749.750000     40.000000    160.000000     55.000000     75.000000   \n",
       "50%     7499.500000     40.000000    165.000000     65.000000     80.000000   \n",
       "75%    11249.250000     50.000000    170.000000     70.000000     86.000000   \n",
       "max    14999.000000     85.000000    190.000000    120.000000    117.000000   \n",
       "\n",
       "       eyesight(left)  eyesight(right)  hearing(left)  hearing(right)  \\\n",
       "count    15000.000000     15000.000000   15000.000000     15000.00000   \n",
       "mean         1.034373         1.029453       1.005600         1.00600   \n",
       "std          0.304866         0.302373       0.074626         0.07723   \n",
       "min          0.100000         0.100000       1.000000         1.00000   \n",
       "25%          0.900000         0.800000       1.000000         1.00000   \n",
       "50%          1.000000         1.000000       1.000000         1.00000   \n",
       "75%          1.200000         1.200000       1.000000         1.00000   \n",
       "max          9.900000         9.900000       2.000000         2.00000   \n",
       "\n",
       "           systolic  ...           HDL           LDL    hemoglobin  \\\n",
       "count  15000.000000  ...  15000.000000  15000.000000  15000.000000   \n",
       "mean     119.219133  ...     57.374733    113.391200     14.505213   \n",
       "std       11.151900  ...     11.436670     18.574279      1.398364   \n",
       "min       84.000000  ...     28.000000     47.000000      7.300000   \n",
       "25%      110.000000  ...     49.000000    100.000000     13.500000   \n",
       "50%      119.000000  ...     56.000000    113.000000     14.700000   \n",
       "75%      128.000000  ...     65.000000    126.000000     15.600000   \n",
       "max      199.000000  ...    107.000000    202.000000     18.800000   \n",
       "\n",
       "       Urine protein  serum creatinine           AST           ALT  \\\n",
       "count   15000.000000      15000.000000  15000.000000  15000.000000   \n",
       "mean        1.016067          0.866873     22.236600     20.859400   \n",
       "std         0.160656          0.165501      5.640184     10.310916   \n",
       "min         1.000000          0.100000     10.000000      5.000000   \n",
       "25%         1.000000          0.800000     18.000000     14.000000   \n",
       "50%         1.000000          0.900000     21.000000     18.000000   \n",
       "75%         1.000000          1.000000     25.000000     24.000000   \n",
       "max         5.000000          1.500000     87.000000    166.000000   \n",
       "\n",
       "                Gtp  dental caries       smoking  \n",
       "count  15000.000000   15000.000000  15000.000000  \n",
       "mean      26.289933       0.145733      0.369133  \n",
       "std       18.685708       0.352850      0.482586  \n",
       "min        6.000000       0.000000      0.000000  \n",
       "25%       15.000000       0.000000      0.000000  \n",
       "50%       21.000000       0.000000      0.000000  \n",
       "75%       31.000000       0.000000      1.000000  \n",
       "max      439.000000       1.000000      1.000000  \n",
       "\n",
       "[8 rows x 24 columns]"
      ]
     },
     "execution_count": 44,
     "metadata": {},
     "output_type": "execute_result"
    }
   ],
   "source": [
    "train_data.describe()\n"
   ]
  },
  {
   "cell_type": "code",
   "execution_count": 45,
   "metadata": {},
   "outputs": [
    {
     "data": {
      "text/plain": [
       "id                     0\n",
       "age                    0\n",
       "height(cm)             0\n",
       "weight(kg)             0\n",
       "waist(cm)              0\n",
       "eyesight(left)         0\n",
       "eyesight(right)        0\n",
       "hearing(left)          0\n",
       "hearing(right)         0\n",
       "systolic               0\n",
       "relaxation             0\n",
       "fasting blood sugar    0\n",
       "Cholesterol            0\n",
       "triglyceride           0\n",
       "HDL                    0\n",
       "LDL                    0\n",
       "hemoglobin             0\n",
       "Urine protein          0\n",
       "serum creatinine       0\n",
       "AST                    0\n",
       "ALT                    0\n",
       "Gtp                    0\n",
       "dental caries          0\n",
       "smoking                0\n",
       "dtype: int64"
      ]
     },
     "execution_count": 45,
     "metadata": {},
     "output_type": "execute_result"
    }
   ],
   "source": [
    "train_data.isnull().sum()\n"
   ]
  },
  {
   "cell_type": "markdown",
   "metadata": {},
   "source": [
    "### 5. Identifying Numerical and Categorical Columns\n"
   ]
  },
  {
   "cell_type": "code",
   "execution_count": 46,
   "metadata": {},
   "outputs": [
    {
     "name": "stderr",
     "output_type": "stream",
     "text": [
      "2024-10-28 17:31:43,775 [INFO] Numerical columns: ['age', 'height(cm)', 'weight(kg)', 'waist(cm)', 'eyesight(left)', 'eyesight(right)', 'hearing(left)', 'hearing(right)', 'systolic', 'relaxation', 'fasting blood sugar', 'Cholesterol', 'triglyceride', 'HDL', 'LDL', 'hemoglobin', 'Urine protein', 'serum creatinine', 'AST', 'ALT', 'Gtp', 'dental caries']\n",
      "2024-10-28 17:31:43,775 [INFO] Categorical columns: []\n"
     ]
    }
   ],
   "source": [
    "numerical_cols = X.select_dtypes(include=['int64', 'float64']).columns.tolist()\n",
    "categorical_cols = X.select_dtypes(include=['object']).columns.tolist()\n",
    "logger.info(f\"Numerical columns: {numerical_cols}\")\n",
    "logger.info(f\"Categorical columns: {categorical_cols}\")\n"
   ]
  },
  {
   "cell_type": "markdown",
   "metadata": {},
   "source": [
    "#### Explanation:\n",
    "select_dtypes: Selects columns based on their data type.\n",
    "numerical_cols: Columns with numerical data types.\n",
    "categorical_cols: Columns with object/string data types."
   ]
  },
  {
   "cell_type": "markdown",
   "metadata": {},
   "source": [
    "### 6. Data Preprocessing\n"
   ]
  },
  {
   "cell_type": "code",
   "execution_count": 47,
   "metadata": {},
   "outputs": [],
   "source": [
    "numerical_pipeline = Pipeline([\n",
    "    ('imputer', SimpleImputer(strategy='median')),\n",
    "    ('scaler', StandardScaler())\n",
    "])\n",
    "\n",
    "categorical_pipeline = Pipeline([\n",
    "    ('imputer', SimpleImputer(strategy='most_frequent')),\n",
    "    ('onehot', OneHotEncoder(handle_unknown='ignore'))\n",
    "])\n",
    "\n",
    "preprocessor = ColumnTransformer([\n",
    "    ('num', numerical_pipeline, numerical_cols),\n",
    "    ('cat', categorical_pipeline, categorical_cols)\n",
    "])\n"
   ]
  },
  {
   "cell_type": "markdown",
   "metadata": {},
   "source": [
    "#### Explanation:\n",
    "Pipeline: Chains multiple preprocessing steps.\n",
    "\n",
    "SimpleImputer: Handles missing values.\n",
    "\n",
    "Numerical data: Imputed with the median.\n",
    "\n",
    "Categorical data: Imputed with the most frequent value (mode).\n",
    "\n",
    "StandardScaler: Scales numerical features to have mean=0 and variance=1.\n",
    "\n",
    "OneHotEncoder: Converts categorical variables into a binary matrix.\n",
    "\n",
    "ColumnTransformer: Applies different preprocessing pipelines to different columns."
   ]
  },
  {
   "cell_type": "markdown",
   "metadata": {},
   "source": [
    "### 7. Handling Class Imbalance\n"
   ]
  },
  {
   "cell_type": "code",
   "execution_count": 48,
   "metadata": {},
   "outputs": [
    {
     "name": "stderr",
     "output_type": "stream",
     "text": [
      "2024-10-28 17:31:43,811 [INFO] Class distribution: Counter({0.0: 9463, 1.0: 5537})\n",
      "2024-10-28 17:31:43,817 [INFO] Scale_pos_weight: 1.71\n"
     ]
    }
   ],
   "source": [
    "\n",
    "counter = Counter(y)\n",
    "scale_pos_weight = counter[0] / counter[1]\n",
    "logger.info(f\"Class distribution: {counter}\")\n",
    "logger.info(f\"Scale_pos_weight: {scale_pos_weight:.2f}\")\n"
   ]
  },
  {
   "cell_type": "markdown",
   "metadata": {},
   "source": [
    "#### Explanation:\n",
    "Counter: Counts the number of instances in each class.\n",
    "scale_pos_weight: Helps in balancing classes during model training by scaling the weight of the positive class."
   ]
  },
  {
   "cell_type": "markdown",
   "metadata": {},
   "source": [
    "### 8. Splitting the Data\n"
   ]
  },
  {
   "cell_type": "code",
   "execution_count": 49,
   "metadata": {},
   "outputs": [],
   "source": [
    "X_train, X_val, y_train, y_val = train_test_split(\n",
    "    X, y, test_size=0.2, random_state=101, stratify=y\n",
    ")\n"
   ]
  },
  {
   "cell_type": "markdown",
   "metadata": {},
   "source": [
    "#### Explanation:\n",
    "train_test_split: Splits the data into training and validation sets.\n",
    "\n",
    "test_size=0.2: 20% of the data is used for validation.\n",
    "\n",
    "stratify=y: Ensures the same class distribution in both sets.\n",
    "\n",
    "random_state: Ensures reproducibility."
   ]
  },
  {
   "cell_type": "markdown",
   "metadata": {},
   "source": [
    "### 9. Hyperparameter Optimization with Optuna\n"
   ]
  },
  {
   "cell_type": "code",
   "execution_count": 50,
   "metadata": {},
   "outputs": [],
   "source": [
    "def objective(trial):\n",
    "    try:\n",
    "        param = {\n",
    "            'classifier__n_estimators': trial.suggest_int('n_estimators', 100, 1000),\n",
    "            'classifier__max_depth': trial.suggest_int('max_depth', 5, 50),\n",
    "            'classifier__min_samples_split': trial.suggest_int('min_samples_split', 2, 20),\n",
    "            'classifier__min_samples_leaf': trial.suggest_int('min_samples_leaf', 1, 20),\n",
    "            'classifier__max_features': trial.suggest_categorical('max_features', ['sqrt', 'log2', None]),\n",
    "            'classifier__bootstrap': trial.suggest_categorical('bootstrap', [True, False]),\n",
    "            'classifier__criterion': trial.suggest_categorical('criterion', ['gini', 'entropy'])\n",
    "        }\n",
    "        \n",
    "        pipeline = Pipeline([\n",
    "            ('preprocessor', preprocessor),\n",
    "            ('classifier', RandomForestClassifier(\n",
    "                random_state=101,\n",
    "                class_weight='balanced',\n",
    "                n_jobs=-1\n",
    "            ))\n",
    "        ])\n",
    "        \n",
    "        pipeline.set_params(**param)\n",
    "        \n",
    "        skf = StratifiedKFold(n_splits=5, shuffle=True, random_state=101)\n",
    "        \n",
    "        roc_auc_scores = []\n",
    "        \n",
    "        for train_idx, test_idx in skf.split(X_train, y_train):\n",
    "            X_tr, X_te = X_train.iloc[train_idx], X_train.iloc[test_idx]\n",
    "            y_tr, y_te = y_train.iloc[train_idx], y_train.iloc[test_idx]\n",
    "            \n",
    "            pipeline.fit(X_tr, y_tr)\n",
    "            \n",
    "            y_pred_prob = pipeline.predict_proba(X_te)[:, 1]\n",
    "            \n",
    "            score = roc_auc_score(y_te, y_pred_prob)\n",
    "            roc_auc_scores.append(score)\n",
    "        \n",
    "        return np.mean(roc_auc_scores)\n",
    "    \n",
    "    except Exception as e:\n",
    "        logger.error(f\"An error occurred during trial: {e}\", exc_info=True)\n",
    "        return float('nan')  \n"
   ]
  },
  {
   "cell_type": "markdown",
   "metadata": {},
   "source": [
    "#### Explanation:\n",
    "objective: A function that Optuna will optimize.\n",
    "\n",
    "Hyperparameter Search Space: Defines the range of values for each hyperparameter.\n",
    "\n",
    "Pipeline: Combines preprocessing and the classifier.\n",
    "\n",
    "StratifiedKFold: Ensures each fold has the same class distribution.\n",
    "\n",
    "ROC AUC: The metric used for optimization.\n"
   ]
  },
  {
   "cell_type": "markdown",
   "metadata": {},
   "source": [
    "### 10. Running the Optuna Study\n"
   ]
  },
  {
   "cell_type": "code",
   "execution_count": 51,
   "metadata": {},
   "outputs": [
    {
     "name": "stderr",
     "output_type": "stream",
     "text": [
      "[I 2024-10-28 17:31:43,872] A new study created in memory with name: no-name-accdedae-8fd6-4b2c-acd6-30aa6000d2af\n",
      "2024-10-28 17:31:43,872 [INFO] Starting hyperparameter optimization with Optuna...\n",
      "[I 2024-10-28 17:31:54,681] Trial 0 finished with value: 0.883237861225999 and parameters: {'n_estimators': 565, 'max_depth': 31, 'min_samples_split': 2, 'min_samples_leaf': 4, 'max_features': 'log2', 'bootstrap': True, 'criterion': 'entropy'}. Best is trial 0 with value: 0.883237861225999.\n",
      "[I 2024-10-28 17:32:10,545] Trial 1 finished with value: 0.8784418415331995 and parameters: {'n_estimators': 417, 'max_depth': 13, 'min_samples_split': 16, 'min_samples_leaf': 20, 'max_features': None, 'bootstrap': True, 'criterion': 'gini'}. Best is trial 0 with value: 0.883237861225999.\n",
      "[I 2024-10-28 17:32:18,477] Trial 2 finished with value: 0.8460803754871762 and parameters: {'n_estimators': 143, 'max_depth': 11, 'min_samples_split': 5, 'min_samples_leaf': 20, 'max_features': None, 'bootstrap': False, 'criterion': 'gini'}. Best is trial 0 with value: 0.883237861225999.\n",
      "[I 2024-10-28 17:32:44,449] Trial 3 finished with value: 0.838149282393671 and parameters: {'n_estimators': 421, 'max_depth': 48, 'min_samples_split': 8, 'min_samples_leaf': 18, 'max_features': None, 'bootstrap': False, 'criterion': 'entropy'}. Best is trial 0 with value: 0.883237861225999.\n",
      "[I 2024-10-28 17:32:48,955] Trial 4 finished with value: 0.8827561271622866 and parameters: {'n_estimators': 243, 'max_depth': 17, 'min_samples_split': 14, 'min_samples_leaf': 4, 'max_features': 'sqrt', 'bootstrap': True, 'criterion': 'entropy'}. Best is trial 0 with value: 0.883237861225999.\n",
      "[I 2024-10-28 17:33:02,709] Trial 5 finished with value: 0.8794768764667469 and parameters: {'n_estimators': 208, 'max_depth': 28, 'min_samples_split': 4, 'min_samples_leaf': 2, 'max_features': None, 'bootstrap': True, 'criterion': 'entropy'}. Best is trial 0 with value: 0.883237861225999.\n",
      "[I 2024-10-28 17:33:09,303] Trial 6 finished with value: 0.8782116349735055 and parameters: {'n_estimators': 392, 'max_depth': 10, 'min_samples_split': 2, 'min_samples_leaf': 13, 'max_features': 'sqrt', 'bootstrap': False, 'criterion': 'entropy'}. Best is trial 0 with value: 0.883237861225999.\n",
      "[I 2024-10-28 17:33:17,824] Trial 7 finished with value: 0.8797409281618365 and parameters: {'n_estimators': 577, 'max_depth': 39, 'min_samples_split': 3, 'min_samples_leaf': 16, 'max_features': 'log2', 'bootstrap': True, 'criterion': 'gini'}. Best is trial 0 with value: 0.883237861225999.\n",
      "[I 2024-10-28 17:33:20,435] Trial 8 finished with value: 0.8808020551601159 and parameters: {'n_estimators': 143, 'max_depth': 46, 'min_samples_split': 3, 'min_samples_leaf': 13, 'max_features': 'sqrt', 'bootstrap': True, 'criterion': 'entropy'}. Best is trial 0 with value: 0.883237861225999.\n",
      "[I 2024-10-28 17:33:31,885] Trial 9 finished with value: 0.8814887983038666 and parameters: {'n_estimators': 708, 'max_depth': 36, 'min_samples_split': 8, 'min_samples_leaf': 9, 'max_features': 'log2', 'bootstrap': True, 'criterion': 'gini'}. Best is trial 0 with value: 0.883237861225999.\n",
      "[I 2024-10-28 17:33:51,927] Trial 10 finished with value: 0.8826872441113938 and parameters: {'n_estimators': 995, 'max_depth': 22, 'min_samples_split': 19, 'min_samples_leaf': 7, 'max_features': 'log2', 'bootstrap': False, 'criterion': 'entropy'}. Best is trial 0 with value: 0.883237861225999.\n",
      "[I 2024-10-28 17:34:05,524] Trial 11 finished with value: 0.8831567521790602 and parameters: {'n_estimators': 711, 'max_depth': 22, 'min_samples_split': 13, 'min_samples_leaf': 2, 'max_features': 'sqrt', 'bootstrap': True, 'criterion': 'entropy'}. Best is trial 0 with value: 0.883237861225999.\n",
      "[I 2024-10-28 17:34:20,524] Trial 12 finished with value: 0.8824217014411765 and parameters: {'n_estimators': 740, 'max_depth': 28, 'min_samples_split': 12, 'min_samples_leaf': 1, 'max_features': 'log2', 'bootstrap': True, 'criterion': 'entropy'}. Best is trial 0 with value: 0.883237861225999.\n",
      "[I 2024-10-28 17:34:35,968] Trial 13 finished with value: 0.8829529358791237 and parameters: {'n_estimators': 816, 'max_depth': 34, 'min_samples_split': 9, 'min_samples_leaf': 5, 'max_features': 'sqrt', 'bootstrap': True, 'criterion': 'entropy'}. Best is trial 0 with value: 0.883237861225999.\n",
      "[I 2024-10-28 17:35:03,774] Trial 14 finished with value: 0.8832053579682183 and parameters: {'n_estimators': 565, 'max_depth': 22, 'min_samples_split': 17, 'min_samples_leaf': 4, 'max_features': 'sqrt', 'bootstrap': True, 'criterion': 'entropy'}. Best is trial 0 with value: 0.883237861225999.\n",
      "[I 2024-10-28 17:35:22,712] Trial 15 finished with value: 0.8654265232547391 and parameters: {'n_estimators': 544, 'max_depth': 5, 'min_samples_split': 20, 'min_samples_leaf': 7, 'max_features': 'log2', 'bootstrap': True, 'criterion': 'entropy'}. Best is trial 0 with value: 0.883237861225999.\n",
      "[I 2024-10-28 17:35:50,635] Trial 16 finished with value: 0.8827893759076311 and parameters: {'n_estimators': 565, 'max_depth': 21, 'min_samples_split': 17, 'min_samples_leaf': 5, 'max_features': 'log2', 'bootstrap': True, 'criterion': 'entropy'}. Best is trial 0 with value: 0.883237861225999.\n",
      "[I 2024-10-28 17:36:31,329] Trial 17 finished with value: 0.8821838909083318 and parameters: {'n_estimators': 876, 'max_depth': 31, 'min_samples_split': 10, 'min_samples_leaf': 10, 'max_features': 'sqrt', 'bootstrap': True, 'criterion': 'entropy'}. Best is trial 0 with value: 0.883237861225999.\n",
      "[I 2024-10-28 17:36:58,304] Trial 18 finished with value: 0.8822460645711508 and parameters: {'n_estimators': 506, 'max_depth': 41, 'min_samples_split': 6, 'min_samples_leaf': 7, 'max_features': 'log2', 'bootstrap': False, 'criterion': 'gini'}. Best is trial 0 with value: 0.883237861225999.\n",
      "[I 2024-10-28 17:37:13,203] Trial 19 finished with value: 0.8828943405566108 and parameters: {'n_estimators': 314, 'max_depth': 25, 'min_samples_split': 16, 'min_samples_leaf': 4, 'max_features': 'sqrt', 'bootstrap': True, 'criterion': 'entropy'}. Best is trial 0 with value: 0.883237861225999.\n",
      "[I 2024-10-28 17:37:41,954] Trial 20 finished with value: 0.8810175010660473 and parameters: {'n_estimators': 634, 'max_depth': 18, 'min_samples_split': 18, 'min_samples_leaf': 13, 'max_features': 'log2', 'bootstrap': True, 'criterion': 'entropy'}. Best is trial 0 with value: 0.883237861225999.\n",
      "[I 2024-10-28 17:38:16,004] Trial 21 finished with value: 0.8830649081112029 and parameters: {'n_estimators': 668, 'max_depth': 24, 'min_samples_split': 13, 'min_samples_leaf': 2, 'max_features': 'sqrt', 'bootstrap': True, 'criterion': 'entropy'}. Best is trial 0 with value: 0.883237861225999.\n",
      "[I 2024-10-28 17:38:45,328] Trial 22 finished with value: 0.8831024806844173 and parameters: {'n_estimators': 793, 'max_depth': 31, 'min_samples_split': 14, 'min_samples_leaf': 3, 'max_features': 'sqrt', 'bootstrap': True, 'criterion': 'entropy'}. Best is trial 0 with value: 0.883237861225999.\n",
      "[I 2024-10-28 17:39:09,876] Trial 23 finished with value: 0.8817201976436628 and parameters: {'n_estimators': 473, 'max_depth': 17, 'min_samples_split': 11, 'min_samples_leaf': 1, 'max_features': 'sqrt', 'bootstrap': True, 'criterion': 'entropy'}. Best is trial 0 with value: 0.883237861225999.\n",
      "[I 2024-10-28 17:39:39,271] Trial 24 finished with value: 0.883095920393856 and parameters: {'n_estimators': 629, 'max_depth': 20, 'min_samples_split': 15, 'min_samples_leaf': 6, 'max_features': 'sqrt', 'bootstrap': True, 'criterion': 'entropy'}. Best is trial 0 with value: 0.883237861225999.\n",
      "[I 2024-10-28 17:40:20,167] Trial 25 finished with value: 0.8822652981502962 and parameters: {'n_estimators': 872, 'max_depth': 25, 'min_samples_split': 12, 'min_samples_leaf': 9, 'max_features': 'sqrt', 'bootstrap': True, 'criterion': 'entropy'}. Best is trial 0 with value: 0.883237861225999.\n",
      "[I 2024-10-28 17:41:04,619] Trial 26 finished with value: 0.882308312782726 and parameters: {'n_estimators': 730, 'max_depth': 32, 'min_samples_split': 6, 'min_samples_leaf': 3, 'max_features': 'sqrt', 'bootstrap': False, 'criterion': 'gini'}. Best is trial 0 with value: 0.883237861225999.\n",
      "[I 2024-10-28 17:41:33,177] Trial 27 finished with value: 0.8815778095189817 and parameters: {'n_estimators': 614, 'max_depth': 14, 'min_samples_split': 18, 'min_samples_leaf': 5, 'max_features': 'sqrt', 'bootstrap': True, 'criterion': 'entropy'}. Best is trial 0 with value: 0.883237861225999.\n",
      "[I 2024-10-28 17:42:55,455] Trial 28 finished with value: 0.8798036236659501 and parameters: {'n_estimators': 488, 'max_depth': 38, 'min_samples_split': 15, 'min_samples_leaf': 1, 'max_features': None, 'bootstrap': True, 'criterion': 'entropy'}. Best is trial 0 with value: 0.883237861225999.\n",
      "[I 2024-10-28 17:43:14,032] Trial 29 finished with value: 0.8812849820039302 and parameters: {'n_estimators': 394, 'max_depth': 42, 'min_samples_split': 16, 'min_samples_leaf': 3, 'max_features': 'log2', 'bootstrap': True, 'criterion': 'gini'}. Best is trial 0 with value: 0.883237861225999.\n",
      "[I 2024-10-28 17:43:56,723] Trial 30 finished with value: 0.8812090168211814 and parameters: {'n_estimators': 314, 'max_depth': 27, 'min_samples_split': 10, 'min_samples_leaf': 8, 'max_features': None, 'bootstrap': True, 'criterion': 'entropy'}. Best is trial 0 with value: 0.883237861225999.\n",
      "[I 2024-10-28 17:44:38,753] Trial 31 finished with value: 0.8832302572528485 and parameters: {'n_estimators': 818, 'max_depth': 31, 'min_samples_split': 13, 'min_samples_leaf': 3, 'max_features': 'sqrt', 'bootstrap': True, 'criterion': 'entropy'}. Best is trial 0 with value: 0.883237861225999.\n",
      "[I 2024-10-28 17:45:28,176] Trial 32 finished with value: 0.8832964565485121 and parameters: {'n_estimators': 976, 'max_depth': 34, 'min_samples_split': 13, 'min_samples_leaf': 4, 'max_features': 'sqrt', 'bootstrap': True, 'criterion': 'entropy'}. Best is trial 32 with value: 0.8832964565485121.\n",
      "[I 2024-10-28 17:46:18,553] Trial 33 finished with value: 0.8833040605216624 and parameters: {'n_estimators': 991, 'max_depth': 35, 'min_samples_split': 12, 'min_samples_leaf': 4, 'max_features': 'sqrt', 'bootstrap': True, 'criterion': 'entropy'}. Best is trial 33 with value: 0.8833040605216624.\n",
      "[I 2024-10-28 17:47:18,017] Trial 34 finished with value: 0.8831167940456417 and parameters: {'n_estimators': 1000, 'max_depth': 35, 'min_samples_split': 11, 'min_samples_leaf': 6, 'max_features': 'sqrt', 'bootstrap': False, 'criterion': 'entropy'}. Best is trial 33 with value: 0.8833040605216624.\n",
      "[I 2024-10-28 17:49:26,794] Trial 35 finished with value: 0.8808187540815444 and parameters: {'n_estimators': 948, 'max_depth': 45, 'min_samples_split': 13, 'min_samples_leaf': 11, 'max_features': None, 'bootstrap': True, 'criterion': 'entropy'}. Best is trial 33 with value: 0.8833040605216624.\n",
      "[I 2024-10-28 17:50:06,889] Trial 36 finished with value: 0.8822740949035488 and parameters: {'n_estimators': 898, 'max_depth': 32, 'min_samples_split': 7, 'min_samples_leaf': 6, 'max_features': 'sqrt', 'bootstrap': True, 'criterion': 'gini'}. Best is trial 33 with value: 0.8833040605216624.\n",
      "[I 2024-10-28 17:51:30,715] Trial 37 finished with value: 0.8413186482223104 and parameters: {'n_estimators': 927, 'max_depth': 29, 'min_samples_split': 14, 'min_samples_leaf': 20, 'max_features': None, 'bootstrap': False, 'criterion': 'entropy'}. Best is trial 33 with value: 0.8833040605216624.\n",
      "[I 2024-10-28 17:51:45,468] Trial 38 finished with value: 0.8836270057342903 and parameters: {'n_estimators': 827, 'max_depth': 50, 'min_samples_split': 9, 'min_samples_leaf': 4, 'max_features': 'sqrt', 'bootstrap': True, 'criterion': 'entropy'}. Best is trial 38 with value: 0.8836270057342903.\n",
      "[I 2024-10-28 17:52:00,616] Trial 39 finished with value: 0.8836164198108847 and parameters: {'n_estimators': 967, 'max_depth': 47, 'min_samples_split': 5, 'min_samples_leaf': 4, 'max_features': 'sqrt', 'bootstrap': True, 'criterion': 'entropy'}. Best is trial 38 with value: 0.8836270057342903.\n",
      "[I 2024-10-28 17:52:15,409] Trial 40 finished with value: 0.8836957396876706 and parameters: {'n_estimators': 950, 'max_depth': 50, 'min_samples_split': 9, 'min_samples_leaf': 4, 'max_features': 'sqrt', 'bootstrap': True, 'criterion': 'entropy'}. Best is trial 40 with value: 0.8836957396876706.\n",
      "[I 2024-10-28 17:52:30,278] Trial 41 finished with value: 0.8836793389612675 and parameters: {'n_estimators': 961, 'max_depth': 49, 'min_samples_split': 9, 'min_samples_leaf': 4, 'max_features': 'sqrt', 'bootstrap': True, 'criterion': 'entropy'}. Best is trial 40 with value: 0.8836957396876706.\n",
      "[I 2024-10-28 17:52:43,910] Trial 42 finished with value: 0.8831333438695574 and parameters: {'n_estimators': 931, 'max_depth': 50, 'min_samples_split': 8, 'min_samples_leaf': 5, 'max_features': 'sqrt', 'bootstrap': True, 'criterion': 'entropy'}. Best is trial 40 with value: 0.8836957396876706.\n",
      "[I 2024-10-28 17:52:53,725] Trial 43 finished with value: 0.8806364078234447 and parameters: {'n_estimators': 849, 'max_depth': 50, 'min_samples_split': 9, 'min_samples_leaf': 15, 'max_features': 'sqrt', 'bootstrap': True, 'criterion': 'entropy'}. Best is trial 40 with value: 0.8836957396876706.\n",
      "[I 2024-10-28 17:53:09,673] Trial 44 finished with value: 0.8834400374532952 and parameters: {'n_estimators': 955, 'max_depth': 46, 'min_samples_split': 5, 'min_samples_leaf': 2, 'max_features': 'sqrt', 'bootstrap': True, 'criterion': 'entropy'}. Best is trial 40 with value: 0.8836957396876706.\n",
      "[I 2024-10-28 17:53:22,806] Trial 45 finished with value: 0.8835857802720136 and parameters: {'n_estimators': 780, 'max_depth': 46, 'min_samples_split': 4, 'min_samples_leaf': 2, 'max_features': 'sqrt', 'bootstrap': True, 'criterion': 'entropy'}. Best is trial 40 with value: 0.8836957396876706.\n",
      "[I 2024-10-28 17:53:31,752] Trial 46 finished with value: 0.8794303580427669 and parameters: {'n_estimators': 765, 'max_depth': 48, 'min_samples_split': 3, 'min_samples_leaf': 18, 'max_features': 'sqrt', 'bootstrap': True, 'criterion': 'gini'}. Best is trial 40 with value: 0.8836957396876706.\n",
      "[I 2024-10-28 17:53:52,298] Trial 47 finished with value: 0.8820237601796327 and parameters: {'n_estimators': 908, 'max_depth': 44, 'min_samples_split': 4, 'min_samples_leaf': 1, 'max_features': 'sqrt', 'bootstrap': False, 'criterion': 'entropy'}. Best is trial 40 with value: 0.8836957396876706.\n",
      "[I 2024-10-28 17:54:07,057] Trial 48 finished with value: 0.8839381722434106 and parameters: {'n_estimators': 858, 'max_depth': 48, 'min_samples_split': 2, 'min_samples_leaf': 3, 'max_features': 'sqrt', 'bootstrap': True, 'criterion': 'entropy'}. Best is trial 48 with value: 0.8839381722434106.\n",
      "[I 2024-10-28 17:54:18,735] Trial 49 finished with value: 0.8822569486895819 and parameters: {'n_estimators': 850, 'max_depth': 43, 'min_samples_split': 2, 'min_samples_leaf': 8, 'max_features': 'sqrt', 'bootstrap': True, 'criterion': 'entropy'}. Best is trial 48 with value: 0.8839381722434106.\n",
      "2024-10-28 17:54:18,742 [INFO] Number of finished trials: 50\n",
      "2024-10-28 17:54:18,742 [INFO] Best trial:\n",
      "2024-10-28 17:54:18,742 [INFO]   Value (Average ROC-AUC): 0.8839\n",
      "2024-10-28 17:54:18,743 [INFO]   Params:\n",
      "2024-10-28 17:54:18,743 [INFO]     n_estimators: 858\n",
      "2024-10-28 17:54:18,744 [INFO]     max_depth: 48\n",
      "2024-10-28 17:54:18,744 [INFO]     min_samples_split: 2\n",
      "2024-10-28 17:54:18,744 [INFO]     min_samples_leaf: 3\n",
      "2024-10-28 17:54:18,744 [INFO]     max_features: sqrt\n",
      "2024-10-28 17:54:18,745 [INFO]     bootstrap: True\n",
      "2024-10-28 17:54:18,745 [INFO]     criterion: entropy\n"
     ]
    }
   ],
   "source": [
    "sampler = TPESampler(seed=101)\n",
    "study = optuna.create_study(direction='maximize', sampler=sampler)\n",
    "logger.info(\"Starting hyperparameter optimization with Optuna...\")\n",
    "study.optimize(objective, n_trials=50) \n",
    "\n",
    "logger.info(f\"Number of finished trials: {len(study.trials)}\")\n",
    "logger.info(\"Best trial:\")\n",
    "trial = study.best_trial\n",
    "\n",
    "logger.info(f\"  Value (Average ROC-AUC): {trial.value:.4f}\")\n",
    "logger.info(\"  Params:\")\n",
    "for key, value in trial.params.items():\n",
    "    logger.info(f\"    {key}: {value}\")\n"
   ]
  },
  {
   "cell_type": "markdown",
   "metadata": {},
   "source": [
    "#### Explanation:\n",
    "TPESampler: A sampler that uses Tree-structured Parzen Estimator for efficient hyperparameter optimization.\n",
    "create_study: Initializes the Optuna study with the objective to maximize ROC AUC.\n",
    "study.optimize: Runs the optimization process.\n",
    "n_trials: Number of hyperparameter combinations to try.\n",
    "timeout: Maximum time (in seconds) for the optimization."
   ]
  },
  {
   "cell_type": "markdown",
   "metadata": {},
   "source": [
    "### 10.1. Visualizing Optuna's Optimization Process\n"
   ]
  },
  {
   "cell_type": "code",
   "execution_count": 52,
   "metadata": {},
   "outputs": [
    {
     "data": {
      "application/vnd.plotly.v1+json": {
       "config": {
        "plotlyServerURL": "https://plot.ly"
       },
       "data": [
        {
         "mode": "markers",
         "name": "Objective Value",
         "type": "scatter",
         "x": [
          0,
          1,
          2,
          3,
          4,
          5,
          6,
          7,
          8,
          9,
          10,
          11,
          12,
          13,
          14,
          15,
          16,
          17,
          18,
          19,
          20,
          21,
          22,
          23,
          24,
          25,
          26,
          27,
          28,
          29,
          30,
          31,
          32,
          33,
          34,
          35,
          36,
          37,
          38,
          39,
          40,
          41,
          42,
          43,
          44,
          45,
          46,
          47,
          48,
          49
         ],
         "y": [
          0.883237861225999,
          0.8784418415331995,
          0.8460803754871762,
          0.838149282393671,
          0.8827561271622866,
          0.8794768764667469,
          0.8782116349735055,
          0.8797409281618365,
          0.8808020551601159,
          0.8814887983038666,
          0.8826872441113938,
          0.8831567521790602,
          0.8824217014411765,
          0.8829529358791237,
          0.8832053579682183,
          0.8654265232547391,
          0.8827893759076311,
          0.8821838909083318,
          0.8822460645711508,
          0.8828943405566108,
          0.8810175010660473,
          0.8830649081112029,
          0.8831024806844173,
          0.8817201976436628,
          0.883095920393856,
          0.8822652981502962,
          0.882308312782726,
          0.8815778095189817,
          0.8798036236659501,
          0.8812849820039302,
          0.8812090168211814,
          0.8832302572528485,
          0.8832964565485121,
          0.8833040605216624,
          0.8831167940456417,
          0.8808187540815444,
          0.8822740949035488,
          0.8413186482223104,
          0.8836270057342903,
          0.8836164198108847,
          0.8836957396876706,
          0.8836793389612675,
          0.8831333438695574,
          0.8806364078234447,
          0.8834400374532952,
          0.8835857802720136,
          0.8794303580427669,
          0.8820237601796327,
          0.8839381722434106,
          0.8822569486895819
         ]
        },
        {
         "mode": "lines",
         "name": "Best Value",
         "type": "scatter",
         "x": [
          0,
          1,
          2,
          3,
          4,
          5,
          6,
          7,
          8,
          9,
          10,
          11,
          12,
          13,
          14,
          15,
          16,
          17,
          18,
          19,
          20,
          21,
          22,
          23,
          24,
          25,
          26,
          27,
          28,
          29,
          30,
          31,
          32,
          33,
          34,
          35,
          36,
          37,
          38,
          39,
          40,
          41,
          42,
          43,
          44,
          45,
          46,
          47,
          48,
          49
         ],
         "y": [
          0.883237861225999,
          0.883237861225999,
          0.883237861225999,
          0.883237861225999,
          0.883237861225999,
          0.883237861225999,
          0.883237861225999,
          0.883237861225999,
          0.883237861225999,
          0.883237861225999,
          0.883237861225999,
          0.883237861225999,
          0.883237861225999,
          0.883237861225999,
          0.883237861225999,
          0.883237861225999,
          0.883237861225999,
          0.883237861225999,
          0.883237861225999,
          0.883237861225999,
          0.883237861225999,
          0.883237861225999,
          0.883237861225999,
          0.883237861225999,
          0.883237861225999,
          0.883237861225999,
          0.883237861225999,
          0.883237861225999,
          0.883237861225999,
          0.883237861225999,
          0.883237861225999,
          0.883237861225999,
          0.8832964565485121,
          0.8833040605216624,
          0.8833040605216624,
          0.8833040605216624,
          0.8833040605216624,
          0.8833040605216624,
          0.8836270057342903,
          0.8836270057342903,
          0.8836957396876706,
          0.8836957396876706,
          0.8836957396876706,
          0.8836957396876706,
          0.8836957396876706,
          0.8836957396876706,
          0.8836957396876706,
          0.8836957396876706,
          0.8839381722434106,
          0.8839381722434106
         ]
        },
        {
         "marker": {
          "color": "#cccccc"
         },
         "mode": "markers",
         "name": "Infeasible Trial",
         "showlegend": false,
         "type": "scatter",
         "x": [],
         "y": []
        }
       ],
       "layout": {
        "template": {
         "data": {
          "bar": [
           {
            "error_x": {
             "color": "#2a3f5f"
            },
            "error_y": {
             "color": "#2a3f5f"
            },
            "marker": {
             "line": {
              "color": "#E5ECF6",
              "width": 0.5
             },
             "pattern": {
              "fillmode": "overlay",
              "size": 10,
              "solidity": 0.2
             }
            },
            "type": "bar"
           }
          ],
          "barpolar": [
           {
            "marker": {
             "line": {
              "color": "#E5ECF6",
              "width": 0.5
             },
             "pattern": {
              "fillmode": "overlay",
              "size": 10,
              "solidity": 0.2
             }
            },
            "type": "barpolar"
           }
          ],
          "carpet": [
           {
            "aaxis": {
             "endlinecolor": "#2a3f5f",
             "gridcolor": "white",
             "linecolor": "white",
             "minorgridcolor": "white",
             "startlinecolor": "#2a3f5f"
            },
            "baxis": {
             "endlinecolor": "#2a3f5f",
             "gridcolor": "white",
             "linecolor": "white",
             "minorgridcolor": "white",
             "startlinecolor": "#2a3f5f"
            },
            "type": "carpet"
           }
          ],
          "choropleth": [
           {
            "colorbar": {
             "outlinewidth": 0,
             "ticks": ""
            },
            "type": "choropleth"
           }
          ],
          "contour": [
           {
            "colorbar": {
             "outlinewidth": 0,
             "ticks": ""
            },
            "colorscale": [
             [
              0,
              "#0d0887"
             ],
             [
              0.1111111111111111,
              "#46039f"
             ],
             [
              0.2222222222222222,
              "#7201a8"
             ],
             [
              0.3333333333333333,
              "#9c179e"
             ],
             [
              0.4444444444444444,
              "#bd3786"
             ],
             [
              0.5555555555555556,
              "#d8576b"
             ],
             [
              0.6666666666666666,
              "#ed7953"
             ],
             [
              0.7777777777777778,
              "#fb9f3a"
             ],
             [
              0.8888888888888888,
              "#fdca26"
             ],
             [
              1,
              "#f0f921"
             ]
            ],
            "type": "contour"
           }
          ],
          "contourcarpet": [
           {
            "colorbar": {
             "outlinewidth": 0,
             "ticks": ""
            },
            "type": "contourcarpet"
           }
          ],
          "heatmap": [
           {
            "colorbar": {
             "outlinewidth": 0,
             "ticks": ""
            },
            "colorscale": [
             [
              0,
              "#0d0887"
             ],
             [
              0.1111111111111111,
              "#46039f"
             ],
             [
              0.2222222222222222,
              "#7201a8"
             ],
             [
              0.3333333333333333,
              "#9c179e"
             ],
             [
              0.4444444444444444,
              "#bd3786"
             ],
             [
              0.5555555555555556,
              "#d8576b"
             ],
             [
              0.6666666666666666,
              "#ed7953"
             ],
             [
              0.7777777777777778,
              "#fb9f3a"
             ],
             [
              0.8888888888888888,
              "#fdca26"
             ],
             [
              1,
              "#f0f921"
             ]
            ],
            "type": "heatmap"
           }
          ],
          "heatmapgl": [
           {
            "colorbar": {
             "outlinewidth": 0,
             "ticks": ""
            },
            "colorscale": [
             [
              0,
              "#0d0887"
             ],
             [
              0.1111111111111111,
              "#46039f"
             ],
             [
              0.2222222222222222,
              "#7201a8"
             ],
             [
              0.3333333333333333,
              "#9c179e"
             ],
             [
              0.4444444444444444,
              "#bd3786"
             ],
             [
              0.5555555555555556,
              "#d8576b"
             ],
             [
              0.6666666666666666,
              "#ed7953"
             ],
             [
              0.7777777777777778,
              "#fb9f3a"
             ],
             [
              0.8888888888888888,
              "#fdca26"
             ],
             [
              1,
              "#f0f921"
             ]
            ],
            "type": "heatmapgl"
           }
          ],
          "histogram": [
           {
            "marker": {
             "pattern": {
              "fillmode": "overlay",
              "size": 10,
              "solidity": 0.2
             }
            },
            "type": "histogram"
           }
          ],
          "histogram2d": [
           {
            "colorbar": {
             "outlinewidth": 0,
             "ticks": ""
            },
            "colorscale": [
             [
              0,
              "#0d0887"
             ],
             [
              0.1111111111111111,
              "#46039f"
             ],
             [
              0.2222222222222222,
              "#7201a8"
             ],
             [
              0.3333333333333333,
              "#9c179e"
             ],
             [
              0.4444444444444444,
              "#bd3786"
             ],
             [
              0.5555555555555556,
              "#d8576b"
             ],
             [
              0.6666666666666666,
              "#ed7953"
             ],
             [
              0.7777777777777778,
              "#fb9f3a"
             ],
             [
              0.8888888888888888,
              "#fdca26"
             ],
             [
              1,
              "#f0f921"
             ]
            ],
            "type": "histogram2d"
           }
          ],
          "histogram2dcontour": [
           {
            "colorbar": {
             "outlinewidth": 0,
             "ticks": ""
            },
            "colorscale": [
             [
              0,
              "#0d0887"
             ],
             [
              0.1111111111111111,
              "#46039f"
             ],
             [
              0.2222222222222222,
              "#7201a8"
             ],
             [
              0.3333333333333333,
              "#9c179e"
             ],
             [
              0.4444444444444444,
              "#bd3786"
             ],
             [
              0.5555555555555556,
              "#d8576b"
             ],
             [
              0.6666666666666666,
              "#ed7953"
             ],
             [
              0.7777777777777778,
              "#fb9f3a"
             ],
             [
              0.8888888888888888,
              "#fdca26"
             ],
             [
              1,
              "#f0f921"
             ]
            ],
            "type": "histogram2dcontour"
           }
          ],
          "mesh3d": [
           {
            "colorbar": {
             "outlinewidth": 0,
             "ticks": ""
            },
            "type": "mesh3d"
           }
          ],
          "parcoords": [
           {
            "line": {
             "colorbar": {
              "outlinewidth": 0,
              "ticks": ""
             }
            },
            "type": "parcoords"
           }
          ],
          "pie": [
           {
            "automargin": true,
            "type": "pie"
           }
          ],
          "scatter": [
           {
            "fillpattern": {
             "fillmode": "overlay",
             "size": 10,
             "solidity": 0.2
            },
            "type": "scatter"
           }
          ],
          "scatter3d": [
           {
            "line": {
             "colorbar": {
              "outlinewidth": 0,
              "ticks": ""
             }
            },
            "marker": {
             "colorbar": {
              "outlinewidth": 0,
              "ticks": ""
             }
            },
            "type": "scatter3d"
           }
          ],
          "scattercarpet": [
           {
            "marker": {
             "colorbar": {
              "outlinewidth": 0,
              "ticks": ""
             }
            },
            "type": "scattercarpet"
           }
          ],
          "scattergeo": [
           {
            "marker": {
             "colorbar": {
              "outlinewidth": 0,
              "ticks": ""
             }
            },
            "type": "scattergeo"
           }
          ],
          "scattergl": [
           {
            "marker": {
             "colorbar": {
              "outlinewidth": 0,
              "ticks": ""
             }
            },
            "type": "scattergl"
           }
          ],
          "scattermapbox": [
           {
            "marker": {
             "colorbar": {
              "outlinewidth": 0,
              "ticks": ""
             }
            },
            "type": "scattermapbox"
           }
          ],
          "scatterpolar": [
           {
            "marker": {
             "colorbar": {
              "outlinewidth": 0,
              "ticks": ""
             }
            },
            "type": "scatterpolar"
           }
          ],
          "scatterpolargl": [
           {
            "marker": {
             "colorbar": {
              "outlinewidth": 0,
              "ticks": ""
             }
            },
            "type": "scatterpolargl"
           }
          ],
          "scatterternary": [
           {
            "marker": {
             "colorbar": {
              "outlinewidth": 0,
              "ticks": ""
             }
            },
            "type": "scatterternary"
           }
          ],
          "surface": [
           {
            "colorbar": {
             "outlinewidth": 0,
             "ticks": ""
            },
            "colorscale": [
             [
              0,
              "#0d0887"
             ],
             [
              0.1111111111111111,
              "#46039f"
             ],
             [
              0.2222222222222222,
              "#7201a8"
             ],
             [
              0.3333333333333333,
              "#9c179e"
             ],
             [
              0.4444444444444444,
              "#bd3786"
             ],
             [
              0.5555555555555556,
              "#d8576b"
             ],
             [
              0.6666666666666666,
              "#ed7953"
             ],
             [
              0.7777777777777778,
              "#fb9f3a"
             ],
             [
              0.8888888888888888,
              "#fdca26"
             ],
             [
              1,
              "#f0f921"
             ]
            ],
            "type": "surface"
           }
          ],
          "table": [
           {
            "cells": {
             "fill": {
              "color": "#EBF0F8"
             },
             "line": {
              "color": "white"
             }
            },
            "header": {
             "fill": {
              "color": "#C8D4E3"
             },
             "line": {
              "color": "white"
             }
            },
            "type": "table"
           }
          ]
         },
         "layout": {
          "annotationdefaults": {
           "arrowcolor": "#2a3f5f",
           "arrowhead": 0,
           "arrowwidth": 1
          },
          "autotypenumbers": "strict",
          "coloraxis": {
           "colorbar": {
            "outlinewidth": 0,
            "ticks": ""
           }
          },
          "colorscale": {
           "diverging": [
            [
             0,
             "#8e0152"
            ],
            [
             0.1,
             "#c51b7d"
            ],
            [
             0.2,
             "#de77ae"
            ],
            [
             0.3,
             "#f1b6da"
            ],
            [
             0.4,
             "#fde0ef"
            ],
            [
             0.5,
             "#f7f7f7"
            ],
            [
             0.6,
             "#e6f5d0"
            ],
            [
             0.7,
             "#b8e186"
            ],
            [
             0.8,
             "#7fbc41"
            ],
            [
             0.9,
             "#4d9221"
            ],
            [
             1,
             "#276419"
            ]
           ],
           "sequential": [
            [
             0,
             "#0d0887"
            ],
            [
             0.1111111111111111,
             "#46039f"
            ],
            [
             0.2222222222222222,
             "#7201a8"
            ],
            [
             0.3333333333333333,
             "#9c179e"
            ],
            [
             0.4444444444444444,
             "#bd3786"
            ],
            [
             0.5555555555555556,
             "#d8576b"
            ],
            [
             0.6666666666666666,
             "#ed7953"
            ],
            [
             0.7777777777777778,
             "#fb9f3a"
            ],
            [
             0.8888888888888888,
             "#fdca26"
            ],
            [
             1,
             "#f0f921"
            ]
           ],
           "sequentialminus": [
            [
             0,
             "#0d0887"
            ],
            [
             0.1111111111111111,
             "#46039f"
            ],
            [
             0.2222222222222222,
             "#7201a8"
            ],
            [
             0.3333333333333333,
             "#9c179e"
            ],
            [
             0.4444444444444444,
             "#bd3786"
            ],
            [
             0.5555555555555556,
             "#d8576b"
            ],
            [
             0.6666666666666666,
             "#ed7953"
            ],
            [
             0.7777777777777778,
             "#fb9f3a"
            ],
            [
             0.8888888888888888,
             "#fdca26"
            ],
            [
             1,
             "#f0f921"
            ]
           ]
          },
          "colorway": [
           "#636efa",
           "#EF553B",
           "#00cc96",
           "#ab63fa",
           "#FFA15A",
           "#19d3f3",
           "#FF6692",
           "#B6E880",
           "#FF97FF",
           "#FECB52"
          ],
          "font": {
           "color": "#2a3f5f"
          },
          "geo": {
           "bgcolor": "white",
           "lakecolor": "white",
           "landcolor": "#E5ECF6",
           "showlakes": true,
           "showland": true,
           "subunitcolor": "white"
          },
          "hoverlabel": {
           "align": "left"
          },
          "hovermode": "closest",
          "mapbox": {
           "style": "light"
          },
          "paper_bgcolor": "white",
          "plot_bgcolor": "#E5ECF6",
          "polar": {
           "angularaxis": {
            "gridcolor": "white",
            "linecolor": "white",
            "ticks": ""
           },
           "bgcolor": "#E5ECF6",
           "radialaxis": {
            "gridcolor": "white",
            "linecolor": "white",
            "ticks": ""
           }
          },
          "scene": {
           "xaxis": {
            "backgroundcolor": "#E5ECF6",
            "gridcolor": "white",
            "gridwidth": 2,
            "linecolor": "white",
            "showbackground": true,
            "ticks": "",
            "zerolinecolor": "white"
           },
           "yaxis": {
            "backgroundcolor": "#E5ECF6",
            "gridcolor": "white",
            "gridwidth": 2,
            "linecolor": "white",
            "showbackground": true,
            "ticks": "",
            "zerolinecolor": "white"
           },
           "zaxis": {
            "backgroundcolor": "#E5ECF6",
            "gridcolor": "white",
            "gridwidth": 2,
            "linecolor": "white",
            "showbackground": true,
            "ticks": "",
            "zerolinecolor": "white"
           }
          },
          "shapedefaults": {
           "line": {
            "color": "#2a3f5f"
           }
          },
          "ternary": {
           "aaxis": {
            "gridcolor": "white",
            "linecolor": "white",
            "ticks": ""
           },
           "baxis": {
            "gridcolor": "white",
            "linecolor": "white",
            "ticks": ""
           },
           "bgcolor": "#E5ECF6",
           "caxis": {
            "gridcolor": "white",
            "linecolor": "white",
            "ticks": ""
           }
          },
          "title": {
           "x": 0.05
          },
          "xaxis": {
           "automargin": true,
           "gridcolor": "white",
           "linecolor": "white",
           "ticks": "",
           "title": {
            "standoff": 15
           },
           "zerolinecolor": "white",
           "zerolinewidth": 2
          },
          "yaxis": {
           "automargin": true,
           "gridcolor": "white",
           "linecolor": "white",
           "ticks": "",
           "title": {
            "standoff": 15
           },
           "zerolinecolor": "white",
           "zerolinewidth": 2
          }
         }
        },
        "title": {
         "text": "Optimization History Plot"
        },
        "xaxis": {
         "title": {
          "text": "Trial"
         }
        },
        "yaxis": {
         "title": {
          "text": "Objective Value"
         }
        }
       }
      }
     },
     "metadata": {},
     "output_type": "display_data"
    },
    {
     "data": {
      "application/vnd.plotly.v1+json": {
       "config": {
        "plotlyServerURL": "https://plot.ly"
       },
       "data": [
        {
         "cliponaxis": false,
         "hovertemplate": [
          "criterion (CategoricalDistribution): 0.0058152840217172265<extra></extra>",
          "bootstrap (CategoricalDistribution): 0.030137858107737836<extra></extra>",
          "n_estimators (IntDistribution): 0.03264903597594169<extra></extra>",
          "min_samples_split (IntDistribution): 0.034209320615315855<extra></extra>",
          "max_features (CategoricalDistribution): 0.04718398845435911<extra></extra>",
          "max_depth (IntDistribution): 0.1638741401676969<extra></extra>",
          "min_samples_leaf (IntDistribution): 0.6861303726572311<extra></extra>"
         ],
         "name": "Objective Value",
         "orientation": "h",
         "text": [
          "<0.01",
          "0.03",
          "0.03",
          "0.03",
          "0.05",
          "0.16",
          "0.69"
         ],
         "textposition": "outside",
         "type": "bar",
         "x": [
          0.0058152840217172265,
          0.030137858107737836,
          0.03264903597594169,
          0.034209320615315855,
          0.04718398845435911,
          0.1638741401676969,
          0.6861303726572311
         ],
         "y": [
          "criterion",
          "bootstrap",
          "n_estimators",
          "min_samples_split",
          "max_features",
          "max_depth",
          "min_samples_leaf"
         ]
        }
       ],
       "layout": {
        "template": {
         "data": {
          "bar": [
           {
            "error_x": {
             "color": "#2a3f5f"
            },
            "error_y": {
             "color": "#2a3f5f"
            },
            "marker": {
             "line": {
              "color": "#E5ECF6",
              "width": 0.5
             },
             "pattern": {
              "fillmode": "overlay",
              "size": 10,
              "solidity": 0.2
             }
            },
            "type": "bar"
           }
          ],
          "barpolar": [
           {
            "marker": {
             "line": {
              "color": "#E5ECF6",
              "width": 0.5
             },
             "pattern": {
              "fillmode": "overlay",
              "size": 10,
              "solidity": 0.2
             }
            },
            "type": "barpolar"
           }
          ],
          "carpet": [
           {
            "aaxis": {
             "endlinecolor": "#2a3f5f",
             "gridcolor": "white",
             "linecolor": "white",
             "minorgridcolor": "white",
             "startlinecolor": "#2a3f5f"
            },
            "baxis": {
             "endlinecolor": "#2a3f5f",
             "gridcolor": "white",
             "linecolor": "white",
             "minorgridcolor": "white",
             "startlinecolor": "#2a3f5f"
            },
            "type": "carpet"
           }
          ],
          "choropleth": [
           {
            "colorbar": {
             "outlinewidth": 0,
             "ticks": ""
            },
            "type": "choropleth"
           }
          ],
          "contour": [
           {
            "colorbar": {
             "outlinewidth": 0,
             "ticks": ""
            },
            "colorscale": [
             [
              0,
              "#0d0887"
             ],
             [
              0.1111111111111111,
              "#46039f"
             ],
             [
              0.2222222222222222,
              "#7201a8"
             ],
             [
              0.3333333333333333,
              "#9c179e"
             ],
             [
              0.4444444444444444,
              "#bd3786"
             ],
             [
              0.5555555555555556,
              "#d8576b"
             ],
             [
              0.6666666666666666,
              "#ed7953"
             ],
             [
              0.7777777777777778,
              "#fb9f3a"
             ],
             [
              0.8888888888888888,
              "#fdca26"
             ],
             [
              1,
              "#f0f921"
             ]
            ],
            "type": "contour"
           }
          ],
          "contourcarpet": [
           {
            "colorbar": {
             "outlinewidth": 0,
             "ticks": ""
            },
            "type": "contourcarpet"
           }
          ],
          "heatmap": [
           {
            "colorbar": {
             "outlinewidth": 0,
             "ticks": ""
            },
            "colorscale": [
             [
              0,
              "#0d0887"
             ],
             [
              0.1111111111111111,
              "#46039f"
             ],
             [
              0.2222222222222222,
              "#7201a8"
             ],
             [
              0.3333333333333333,
              "#9c179e"
             ],
             [
              0.4444444444444444,
              "#bd3786"
             ],
             [
              0.5555555555555556,
              "#d8576b"
             ],
             [
              0.6666666666666666,
              "#ed7953"
             ],
             [
              0.7777777777777778,
              "#fb9f3a"
             ],
             [
              0.8888888888888888,
              "#fdca26"
             ],
             [
              1,
              "#f0f921"
             ]
            ],
            "type": "heatmap"
           }
          ],
          "heatmapgl": [
           {
            "colorbar": {
             "outlinewidth": 0,
             "ticks": ""
            },
            "colorscale": [
             [
              0,
              "#0d0887"
             ],
             [
              0.1111111111111111,
              "#46039f"
             ],
             [
              0.2222222222222222,
              "#7201a8"
             ],
             [
              0.3333333333333333,
              "#9c179e"
             ],
             [
              0.4444444444444444,
              "#bd3786"
             ],
             [
              0.5555555555555556,
              "#d8576b"
             ],
             [
              0.6666666666666666,
              "#ed7953"
             ],
             [
              0.7777777777777778,
              "#fb9f3a"
             ],
             [
              0.8888888888888888,
              "#fdca26"
             ],
             [
              1,
              "#f0f921"
             ]
            ],
            "type": "heatmapgl"
           }
          ],
          "histogram": [
           {
            "marker": {
             "pattern": {
              "fillmode": "overlay",
              "size": 10,
              "solidity": 0.2
             }
            },
            "type": "histogram"
           }
          ],
          "histogram2d": [
           {
            "colorbar": {
             "outlinewidth": 0,
             "ticks": ""
            },
            "colorscale": [
             [
              0,
              "#0d0887"
             ],
             [
              0.1111111111111111,
              "#46039f"
             ],
             [
              0.2222222222222222,
              "#7201a8"
             ],
             [
              0.3333333333333333,
              "#9c179e"
             ],
             [
              0.4444444444444444,
              "#bd3786"
             ],
             [
              0.5555555555555556,
              "#d8576b"
             ],
             [
              0.6666666666666666,
              "#ed7953"
             ],
             [
              0.7777777777777778,
              "#fb9f3a"
             ],
             [
              0.8888888888888888,
              "#fdca26"
             ],
             [
              1,
              "#f0f921"
             ]
            ],
            "type": "histogram2d"
           }
          ],
          "histogram2dcontour": [
           {
            "colorbar": {
             "outlinewidth": 0,
             "ticks": ""
            },
            "colorscale": [
             [
              0,
              "#0d0887"
             ],
             [
              0.1111111111111111,
              "#46039f"
             ],
             [
              0.2222222222222222,
              "#7201a8"
             ],
             [
              0.3333333333333333,
              "#9c179e"
             ],
             [
              0.4444444444444444,
              "#bd3786"
             ],
             [
              0.5555555555555556,
              "#d8576b"
             ],
             [
              0.6666666666666666,
              "#ed7953"
             ],
             [
              0.7777777777777778,
              "#fb9f3a"
             ],
             [
              0.8888888888888888,
              "#fdca26"
             ],
             [
              1,
              "#f0f921"
             ]
            ],
            "type": "histogram2dcontour"
           }
          ],
          "mesh3d": [
           {
            "colorbar": {
             "outlinewidth": 0,
             "ticks": ""
            },
            "type": "mesh3d"
           }
          ],
          "parcoords": [
           {
            "line": {
             "colorbar": {
              "outlinewidth": 0,
              "ticks": ""
             }
            },
            "type": "parcoords"
           }
          ],
          "pie": [
           {
            "automargin": true,
            "type": "pie"
           }
          ],
          "scatter": [
           {
            "fillpattern": {
             "fillmode": "overlay",
             "size": 10,
             "solidity": 0.2
            },
            "type": "scatter"
           }
          ],
          "scatter3d": [
           {
            "line": {
             "colorbar": {
              "outlinewidth": 0,
              "ticks": ""
             }
            },
            "marker": {
             "colorbar": {
              "outlinewidth": 0,
              "ticks": ""
             }
            },
            "type": "scatter3d"
           }
          ],
          "scattercarpet": [
           {
            "marker": {
             "colorbar": {
              "outlinewidth": 0,
              "ticks": ""
             }
            },
            "type": "scattercarpet"
           }
          ],
          "scattergeo": [
           {
            "marker": {
             "colorbar": {
              "outlinewidth": 0,
              "ticks": ""
             }
            },
            "type": "scattergeo"
           }
          ],
          "scattergl": [
           {
            "marker": {
             "colorbar": {
              "outlinewidth": 0,
              "ticks": ""
             }
            },
            "type": "scattergl"
           }
          ],
          "scattermapbox": [
           {
            "marker": {
             "colorbar": {
              "outlinewidth": 0,
              "ticks": ""
             }
            },
            "type": "scattermapbox"
           }
          ],
          "scatterpolar": [
           {
            "marker": {
             "colorbar": {
              "outlinewidth": 0,
              "ticks": ""
             }
            },
            "type": "scatterpolar"
           }
          ],
          "scatterpolargl": [
           {
            "marker": {
             "colorbar": {
              "outlinewidth": 0,
              "ticks": ""
             }
            },
            "type": "scatterpolargl"
           }
          ],
          "scatterternary": [
           {
            "marker": {
             "colorbar": {
              "outlinewidth": 0,
              "ticks": ""
             }
            },
            "type": "scatterternary"
           }
          ],
          "surface": [
           {
            "colorbar": {
             "outlinewidth": 0,
             "ticks": ""
            },
            "colorscale": [
             [
              0,
              "#0d0887"
             ],
             [
              0.1111111111111111,
              "#46039f"
             ],
             [
              0.2222222222222222,
              "#7201a8"
             ],
             [
              0.3333333333333333,
              "#9c179e"
             ],
             [
              0.4444444444444444,
              "#bd3786"
             ],
             [
              0.5555555555555556,
              "#d8576b"
             ],
             [
              0.6666666666666666,
              "#ed7953"
             ],
             [
              0.7777777777777778,
              "#fb9f3a"
             ],
             [
              0.8888888888888888,
              "#fdca26"
             ],
             [
              1,
              "#f0f921"
             ]
            ],
            "type": "surface"
           }
          ],
          "table": [
           {
            "cells": {
             "fill": {
              "color": "#EBF0F8"
             },
             "line": {
              "color": "white"
             }
            },
            "header": {
             "fill": {
              "color": "#C8D4E3"
             },
             "line": {
              "color": "white"
             }
            },
            "type": "table"
           }
          ]
         },
         "layout": {
          "annotationdefaults": {
           "arrowcolor": "#2a3f5f",
           "arrowhead": 0,
           "arrowwidth": 1
          },
          "autotypenumbers": "strict",
          "coloraxis": {
           "colorbar": {
            "outlinewidth": 0,
            "ticks": ""
           }
          },
          "colorscale": {
           "diverging": [
            [
             0,
             "#8e0152"
            ],
            [
             0.1,
             "#c51b7d"
            ],
            [
             0.2,
             "#de77ae"
            ],
            [
             0.3,
             "#f1b6da"
            ],
            [
             0.4,
             "#fde0ef"
            ],
            [
             0.5,
             "#f7f7f7"
            ],
            [
             0.6,
             "#e6f5d0"
            ],
            [
             0.7,
             "#b8e186"
            ],
            [
             0.8,
             "#7fbc41"
            ],
            [
             0.9,
             "#4d9221"
            ],
            [
             1,
             "#276419"
            ]
           ],
           "sequential": [
            [
             0,
             "#0d0887"
            ],
            [
             0.1111111111111111,
             "#46039f"
            ],
            [
             0.2222222222222222,
             "#7201a8"
            ],
            [
             0.3333333333333333,
             "#9c179e"
            ],
            [
             0.4444444444444444,
             "#bd3786"
            ],
            [
             0.5555555555555556,
             "#d8576b"
            ],
            [
             0.6666666666666666,
             "#ed7953"
            ],
            [
             0.7777777777777778,
             "#fb9f3a"
            ],
            [
             0.8888888888888888,
             "#fdca26"
            ],
            [
             1,
             "#f0f921"
            ]
           ],
           "sequentialminus": [
            [
             0,
             "#0d0887"
            ],
            [
             0.1111111111111111,
             "#46039f"
            ],
            [
             0.2222222222222222,
             "#7201a8"
            ],
            [
             0.3333333333333333,
             "#9c179e"
            ],
            [
             0.4444444444444444,
             "#bd3786"
            ],
            [
             0.5555555555555556,
             "#d8576b"
            ],
            [
             0.6666666666666666,
             "#ed7953"
            ],
            [
             0.7777777777777778,
             "#fb9f3a"
            ],
            [
             0.8888888888888888,
             "#fdca26"
            ],
            [
             1,
             "#f0f921"
            ]
           ]
          },
          "colorway": [
           "#636efa",
           "#EF553B",
           "#00cc96",
           "#ab63fa",
           "#FFA15A",
           "#19d3f3",
           "#FF6692",
           "#B6E880",
           "#FF97FF",
           "#FECB52"
          ],
          "font": {
           "color": "#2a3f5f"
          },
          "geo": {
           "bgcolor": "white",
           "lakecolor": "white",
           "landcolor": "#E5ECF6",
           "showlakes": true,
           "showland": true,
           "subunitcolor": "white"
          },
          "hoverlabel": {
           "align": "left"
          },
          "hovermode": "closest",
          "mapbox": {
           "style": "light"
          },
          "paper_bgcolor": "white",
          "plot_bgcolor": "#E5ECF6",
          "polar": {
           "angularaxis": {
            "gridcolor": "white",
            "linecolor": "white",
            "ticks": ""
           },
           "bgcolor": "#E5ECF6",
           "radialaxis": {
            "gridcolor": "white",
            "linecolor": "white",
            "ticks": ""
           }
          },
          "scene": {
           "xaxis": {
            "backgroundcolor": "#E5ECF6",
            "gridcolor": "white",
            "gridwidth": 2,
            "linecolor": "white",
            "showbackground": true,
            "ticks": "",
            "zerolinecolor": "white"
           },
           "yaxis": {
            "backgroundcolor": "#E5ECF6",
            "gridcolor": "white",
            "gridwidth": 2,
            "linecolor": "white",
            "showbackground": true,
            "ticks": "",
            "zerolinecolor": "white"
           },
           "zaxis": {
            "backgroundcolor": "#E5ECF6",
            "gridcolor": "white",
            "gridwidth": 2,
            "linecolor": "white",
            "showbackground": true,
            "ticks": "",
            "zerolinecolor": "white"
           }
          },
          "shapedefaults": {
           "line": {
            "color": "#2a3f5f"
           }
          },
          "ternary": {
           "aaxis": {
            "gridcolor": "white",
            "linecolor": "white",
            "ticks": ""
           },
           "baxis": {
            "gridcolor": "white",
            "linecolor": "white",
            "ticks": ""
           },
           "bgcolor": "#E5ECF6",
           "caxis": {
            "gridcolor": "white",
            "linecolor": "white",
            "ticks": ""
           }
          },
          "title": {
           "x": 0.05
          },
          "xaxis": {
           "automargin": true,
           "gridcolor": "white",
           "linecolor": "white",
           "ticks": "",
           "title": {
            "standoff": 15
           },
           "zerolinecolor": "white",
           "zerolinewidth": 2
          },
          "yaxis": {
           "automargin": true,
           "gridcolor": "white",
           "linecolor": "white",
           "ticks": "",
           "title": {
            "standoff": 15
           },
           "zerolinecolor": "white",
           "zerolinewidth": 2
          }
         }
        },
        "title": {
         "text": "Hyperparameter Importances"
        },
        "xaxis": {
         "title": {
          "text": "Hyperparameter Importance"
         }
        },
        "yaxis": {
         "title": {
          "text": "Hyperparameter"
         }
        }
       }
      }
     },
     "metadata": {},
     "output_type": "display_data"
    }
   ],
   "source": [
    "\n",
    "fig1 = plot_optimization_history(study)\n",
    "fig1.show()\n",
    "\n",
    "fig2 = plot_param_importances(study)\n",
    "fig2.show()\n",
    "\n",
    "\n"
   ]
  },
  {
   "cell_type": "markdown",
   "metadata": {},
   "source": [
    "#### Explanation\n",
    "plot_optimization_history: Shows the progression of the objective value over trials.\n",
    "\n",
    "plot_param_importances: Displays which hyperparameters are most influential in the optimization.\n",
    "\n",
    "plot_intermediate_values: Useful if the objective function reports intermediate results."
   ]
  },
  {
   "cell_type": "markdown",
   "metadata": {},
   "source": [
    "### 11. Building the Final Model with Best Hyperparameters\n"
   ]
  },
  {
   "cell_type": "code",
   "execution_count": 53,
   "metadata": {},
   "outputs": [
    {
     "name": "stderr",
     "output_type": "stream",
     "text": [
      "2024-10-28 17:54:19,662 [INFO] Best hyperparameters set on the final pipeline.\n"
     ]
    }
   ],
   "source": [
    "best_params = trial.params\n",
    "\n",
    "if not all(key.startswith('classifier__') for key in best_params.keys()):\n",
    "    best_params_prefixed = {f\"classifier__{key}\": value for key, value in best_params.items()}\n",
    "else:\n",
    "    best_params_prefixed = best_params\n",
    "\n",
    "final_pipeline = Pipeline([\n",
    "    ('preprocessor', preprocessor),\n",
    "    ('classifier', RandomForestClassifier(\n",
    "        random_state=101,\n",
    "        class_weight='balanced',\n",
    "        n_jobs=-1\n",
    "    ))\n",
    "])\n",
    "\n",
    "final_pipeline.set_params(**best_params_prefixed)\n",
    "logger.info(\"Best hyperparameters set on the final pipeline.\")\n"
   ]
  },
  {
   "cell_type": "markdown",
   "metadata": {},
   "source": [
    "#### Explanation:\n",
    "best_params: The optimal hyperparameters found by Optuna.\n",
    "\n",
    "Pipeline: Recreated with the best hyperparameters.\n",
    "\n",
    "classifier__ Prefix: Necessary for setting parameters within the pipeline's classifier."
   ]
  },
  {
   "cell_type": "markdown",
   "metadata": {},
   "source": [
    "### 12. Training the Final Model\n"
   ]
  },
  {
   "cell_type": "code",
   "execution_count": 54,
   "metadata": {},
   "outputs": [
    {
     "name": "stderr",
     "output_type": "stream",
     "text": [
      "2024-10-28 17:54:23,081 [INFO] Final model trained on the training set.\n"
     ]
    }
   ],
   "source": [
    "final_pipeline.fit(X_train, y_train)\n",
    "logger.info(\"Final model trained on the training set.\")\n"
   ]
  },
  {
   "cell_type": "markdown",
   "metadata": {},
   "source": [
    "#### Explanation\n",
    "fit: Trains the model on the training data."
   ]
  },
  {
   "cell_type": "markdown",
   "metadata": {},
   "source": [
    "### 13. Evaluating the Model\n",
    "\n"
   ]
  },
  {
   "cell_type": "code",
   "execution_count": 55,
   "metadata": {},
   "outputs": [
    {
     "name": "stderr",
     "output_type": "stream",
     "text": [
      "2024-10-28 17:54:23,444 [INFO] Predictions made on the validation set.\n",
      "2024-10-28 17:54:23,444 [INFO] Validation ROC-AUC: 0.894\n",
      "2024-10-28 17:54:23,444 [INFO] Validation Accuracy: 0.807\n",
      "2024-10-28 17:54:23,444 [INFO] Validation Precision: 0.697\n",
      "2024-10-28 17:54:23,444 [INFO] Validation F1-Score: 0.764\n"
     ]
    }
   ],
   "source": [
    "y_val_pred = final_pipeline.predict(X_val)\n",
    "y_val_pred_prob = final_pipeline.predict_proba(X_val)[:, 1]\n",
    "logger.info(\"Predictions made on the validation set.\")\n",
    "\n",
    "roc_auc = roc_auc_score(y_val, y_val_pred_prob)\n",
    "accuracy = accuracy_score(y_val, y_val_pred)\n",
    "precision = precision_score(y_val, y_val_pred)\n",
    "f1 = f1_score(y_val, y_val_pred)\n",
    "\n",
    "logger.info(f\"Validation ROC-AUC: {roc_auc:.3f}\")\n",
    "logger.info(f\"Validation Accuracy: {accuracy:.3f}\")\n",
    "logger.info(f\"Validation Precision: {precision:.3f}\")\n",
    "logger.info(f\"Validation F1-Score: {f1:.3f}\")\n"
   ]
  },
  {
   "cell_type": "markdown",
   "metadata": {},
   "source": [
    "#### Explanation\n",
    "predict: Generates class predictions.\n",
    "\n",
    "predict_proba: Generates probability estimates.\n",
    "\n",
    "Metrics:\n",
    "\n",
    "    ROC-AUC: Measures the ability of the model to distinguish between classes.\n",
    "    Accuracy: Proportion of correct predictions.\n",
    "    Precision: Proportion of positive identifications that were actually correct.\n",
    "    F1-Score: Harmonic mean of precision and recall."
   ]
  },
  {
   "cell_type": "markdown",
   "metadata": {},
   "source": [
    "### 13.1 ROC Curve\n"
   ]
  },
  {
   "cell_type": "code",
   "execution_count": 56,
   "metadata": {},
   "outputs": [
    {
     "data": {
      "image/png": "[encoded data removed]",
      "text/plain": [
       "<Figure size 800x600 with 1 Axes>"
      ]
     },
     "metadata": {},
     "output_type": "display_data"
    }
   ],
   "source": [
    "fpr, tpr, thresholds = roc_curve(y_val, y_val_pred_prob)\n",
    "plt.figure(figsize=(8, 6))\n",
    "plt.plot(fpr, tpr, label=f'ROC curve (area = {roc_auc:.2f})')\n",
    "plt.plot([0, 1], [0, 1], 'k--', label='Random Guess')\n",
    "plt.xlabel('False Positive Rate')\n",
    "plt.ylabel('True Positive Rate')\n",
    "plt.title('Receiver Operating Characteristic (ROC) Curve')\n",
    "plt.legend(loc='lower right')\n",
    "plt.grid(True)\n",
    "plt.tight_layout()\n",
    "plt.show()\n"
   ]
  },
  {
   "cell_type": "markdown",
   "metadata": {},
   "source": [
    "#### Explanation\n",
    "fpr & tpr: False positive rate and true positive rate at various thresholds.\n",
    "\n",
    "ROC Curve: Plots TPR vs. FPR.\n",
    "\n",
    "Diagonal Line: Represents random guessing.\n",
    "\n",
    "Interpretation: The area under the ROC curve (AUC) indicates model performance."
   ]
  },
  {
   "cell_type": "markdown",
   "metadata": {},
   "source": [
    "### 13.2 Confusion Matrix\n"
   ]
  },
  {
   "cell_type": "code",
   "execution_count": 57,
   "metadata": {},
   "outputs": [
    {
     "data": {
      "image/png": "[encoded data removed]",
      "text/plain": [
       "<Figure size 640x480 with 2 Axes>"
      ]
     },
     "metadata": {},
     "output_type": "display_data"
    }
   ],
   "source": [
    "cm = confusion_matrix(y_val, y_val_pred)\n",
    "disp = ConfusionMatrixDisplay(confusion_matrix=cm)\n",
    "disp.plot(cmap=plt.cm.Blues)\n",
    "plt.title('Confusion Matrix')\n",
    "plt.show()\n"
   ]
  },
  {
   "cell_type": "markdown",
   "metadata": {},
   "source": [
    "#### Explanation\n",
    "Confusion Matrix: Shows the number of true positives, true negatives, false positives, and false negatives.\n",
    "\n",
    "Visualization: Helps in understanding where the model is making mistakes.\n",
    "Confusion Matrix Example:"
   ]
  },
  {
   "cell_type": "markdown",
   "metadata": {},
   "source": [
    "### 13.3 Learning Curves\n"
   ]
  },
  {
   "cell_type": "code",
   "execution_count": 58,
   "metadata": {},
   "outputs": [
    {
     "data": {
      "image/png": "[encoded data removed]",
      "text/plain": [
       "<Figure size 1000x600 with 1 Axes>"
      ]
     },
     "metadata": {},
     "output_type": "display_data"
    }
   ],
   "source": [
    "from sklearn.model_selection import learning_curve\n",
    "\n",
    "def plot_learning_curve(estimator, X, y, cv, scoring, train_sizes):\n",
    "    train_sizes, train_scores, test_scores = learning_curve(\n",
    "        estimator, X, y, cv=cv, scoring=scoring, train_sizes=train_sizes, n_jobs=-1, random_state=101\n",
    "    )\n",
    "    \n",
    "    train_scores_mean = np.mean(train_scores, axis=1)\n",
    "    train_scores_std = np.std(train_scores, axis=1)\n",
    "    test_scores_mean = np.mean(test_scores, axis=1)\n",
    "    test_scores_std = np.std(test_scores, axis=1)\n",
    "    \n",
    "    plt.figure(figsize=(10, 6))\n",
    "    plt.plot(train_sizes, train_scores_mean, 'o-', color=\"r\", label=\"Training score\")\n",
    "    plt.plot(train_sizes, test_scores_mean, 'o-', color=\"g\", label=\"Cross-validation score\")\n",
    "    plt.fill_between(train_sizes, train_scores_mean - train_scores_std,\n",
    "                     train_scores_mean + train_scores_std, alpha=0.1, color=\"r\")\n",
    "    plt.fill_between(train_sizes, test_scores_mean - test_scores_std,\n",
    "                     test_scores_mean + test_scores_std, alpha=0.1, color=\"g\")\n",
    "    plt.title(\"Learning Curve\")\n",
    "    plt.xlabel(\"Training Examples\")\n",
    "    plt.ylabel(\"ROC-AUC Score\")\n",
    "    plt.legend(loc=\"best\")\n",
    "    plt.grid(True)\n",
    "    plt.tight_layout()\n",
    "    plt.show()\n",
    "\n",
    "plot_learning_curve(\n",
    "    final_pipeline,\n",
    "    X_train,\n",
    "    y_train,\n",
    "    cv=StratifiedKFold(n_splits=5, shuffle=True, random_state=101),\n",
    "    scoring='roc_auc',\n",
    "    train_sizes=np.linspace(0.1, 1.0, 10)\n",
    ")\n"
   ]
  },
  {
   "cell_type": "markdown",
   "metadata": {},
   "source": [
    "#### Explanation\n",
    "learning_curve: Computes training and validation scores for different training set sizes.\n",
    "\n",
    "Plot: Shows how the model's performance improves with more data.\n",
    "\n",
    "Interpretation:\n",
    "\n",
    "    High Training Score & Low Validation Score: Indicates overfitting.\n",
    "    Low Training Score & Low Validation Score: Indicates underfitting.\n",
    "    Both Scores High & Converging: Indicates good fit."
   ]
  },
  {
   "cell_type": "markdown",
   "metadata": {},
   "source": [
    "### 14. Feature Importance\n"
   ]
  },
  {
   "cell_type": "code",
   "execution_count": 59,
   "metadata": {},
   "outputs": [
    {
     "name": "stderr",
     "output_type": "stream",
     "text": [
      "2024-10-28 17:55:39,132 [ERROR] Error in extracting feature names: \n",
      "Traceback (most recent call last):\n",
      "  File \"C:\\Users\\user\\AppData\\Local\\Temp\\ipykernel_7904\\1263441652.py\", line 11, in <module>\n",
      "    feature_names = get_feature_names(preprocessor)\n",
      "                    ^^^^^^^^^^^^^^^^^^^^^^^^^^^^^^^\n",
      "  File \"C:\\Users\\user\\AppData\\Local\\Temp\\ipykernel_7904\\1263441652.py\", line 6, in get_feature_names\n",
      "    cat_features = onehot.get_feature_names_out(categorical_cols)\n",
      "                   ^^^^^^^^^^^^^^^^^^^^^^^^^^^^^^^^^^^^^^^^^^^^^^\n",
      "  File \"c:\\Users\\user\\AppData\\Local\\Programs\\Python\\Python311\\Lib\\site-packages\\sklearn\\preprocessing\\_encoders.py\", line 1207, in get_feature_names_out\n",
      "    check_is_fitted(self)\n",
      "  File \"c:\\Users\\user\\AppData\\Local\\Programs\\Python\\Python311\\Lib\\site-packages\\sklearn\\utils\\validation.py\", line 1661, in check_is_fitted\n",
      "    raise NotFittedError(msg % {\"name\": type(estimator).__name__})\n",
      "sklearn.exceptions.NotFittedError: This OneHotEncoder instance is not fitted yet. Call 'fit' with appropriate arguments before using this estimator.\n"
     ]
    }
   ],
   "source": [
    "def get_feature_names(preprocessor):\n",
    "    num_features = numerical_cols\n",
    "    \n",
    "    cat_pipeline = preprocessor.named_transformers_['cat']\n",
    "    onehot = cat_pipeline.named_steps['onehot']\n",
    "    cat_features = onehot.get_feature_names_out(categorical_cols)\n",
    "    \n",
    "    return np.concatenate([num_features, cat_features])\n",
    "\n",
    "try:\n",
    "    feature_names = get_feature_names(preprocessor)\n",
    "    importances = final_pipeline.named_steps['classifier'].feature_importances_\n",
    "    feature_importances_df = pd.DataFrame({\n",
    "        'Feature': feature_names,\n",
    "        'Importance': importances\n",
    "    }).sort_values(by='Importance', ascending=False)\n",
    "    \n",
    "    logger.info(\"Top 20 Feature Importances:\")\n",
    "    display(feature_importances_df.head(20))\n",
    "    \n",
    "    plt.figure(figsize=(10, 8))\n",
    "    sns.barplot(x='Importance', y='Feature', data=feature_importances_df.head(20))\n",
    "    plt.title('Top 20 Feature Importances')\n",
    "    plt.xlabel('Importance')\n",
    "    plt.ylabel('Feature')\n",
    "    plt.tight_layout()\n",
    "    plt.show()\n",
    "except AttributeError as e:\n",
    "    logger.error(\"Error in extracting feature names: \", exc_info=True)\n"
   ]
  },
  {
   "cell_type": "markdown",
   "metadata": {},
   "source": [
    "#### Explanation\n",
    "Feature Importances: Measures how much each feature contributes to the model's predictions.\n",
    "\n",
    "Visualization: Bar plot of the top 20 most important features."
   ]
  },
  {
   "cell_type": "markdown",
   "metadata": {},
   "source": [
    "### 15. Retraining on the Entire Training Data\n"
   ]
  },
  {
   "cell_type": "code",
   "execution_count": 60,
   "metadata": {},
   "outputs": [
    {
     "name": "stderr",
     "output_type": "stream",
     "text": [
      "2024-10-28 17:55:43,087 [INFO] Final model retrained on the entire training dataset.\n"
     ]
    }
   ],
   "source": [
    "final_pipeline.fit(X, y)\n",
    "logger.info(\"Final model retrained on the entire training dataset.\")\n"
   ]
  },
  {
   "cell_type": "markdown",
   "metadata": {},
   "source": [
    "#### Explanation\n",
    "fit: Trains the model on all available training data to maximize its learning before making predictions on unseen data."
   ]
  },
  {
   "cell_type": "markdown",
   "metadata": {},
   "source": [
    "### 16. Preparing the Test Dataset\n"
   ]
  },
  {
   "cell_type": "code",
   "execution_count": 61,
   "metadata": {},
   "outputs": [
    {
     "name": "stderr",
     "output_type": "stream",
     "text": [
      "2024-10-28 17:55:43,097 [INFO] Test dataset prepared.\n"
     ]
    }
   ],
   "source": [
    "X_test = test_data.drop(columns=['id'])\n",
    "logger.info(\"Test dataset prepared.\")\n"
   ]
  },
  {
   "cell_type": "markdown",
   "metadata": {},
   "source": [
    "#### Explanation\n",
    "Dropping Columns: Removes the id column as it's not needed for prediction."
   ]
  },
  {
   "cell_type": "markdown",
   "metadata": {},
   "source": [
    "### 17. Making Predictions on Test Data\n"
   ]
  },
  {
   "cell_type": "code",
   "execution_count": 62,
   "metadata": {},
   "outputs": [
    {
     "name": "stderr",
     "output_type": "stream",
     "text": [
      "2024-10-28 17:55:43,360 [INFO] Predictions made on the test set.\n"
     ]
    }
   ],
   "source": [
    "y_test_pred_prob = final_pipeline.predict_proba(X_test)[:, 1]\n",
    "logger.info(\"Predictions made on the test set.\")\n"
   ]
  },
  {
   "cell_type": "markdown",
   "metadata": {},
   "source": [
    "#### Explanation\n",
    "predict_proba: Generates probability estimates for each class.\n",
    "\n",
    "[:, 1]: Selects the probability of the positive class (smoking).\n"
   ]
  },
  {
   "cell_type": "markdown",
   "metadata": {},
   "source": [
    "### 17.1 Applying Custom Rounding Rules (Optional)\n"
   ]
  },
  {
   "cell_type": "code",
   "execution_count": 63,
   "metadata": {},
   "outputs": [],
   "source": [
    "\n",
    "def custom_round(prob):\n",
    "    if prob > 0.85:\n",
    "        return 1.0\n",
    "    elif 0.35 < prob < 0.5:\n",
    "        return 0.5\n",
    "    else:\n",
    "        return round(prob, 2)\n",
    "\n",
    "y_test_pred_prob_rounded = pd.Series(y_test_pred_prob).apply(custom_round)\n"
   ]
  },
  {
   "cell_type": "markdown",
   "metadata": {},
   "source": [
    "#### Explanation\n",
    "Custom Rounding: Adjusts probability values based on specific thresholds.\n",
    "\n",
    "Probabilities > 0.85 are set to 1.0.\n",
    "\n",
    "Probabilities between 0.35 and 0.5 are set to 0.5.\n",
    "\n",
    "Others are rounded to two decimal places."
   ]
  },
  {
   "cell_type": "markdown",
   "metadata": {},
   "source": [
    "### 18. Creating the Submission File\n"
   ]
  },
  {
   "cell_type": "code",
   "execution_count": 64,
   "metadata": {},
   "outputs": [
    {
     "data": {
      "text/html": [
       "<div>\n",
       "<style scoped>\n",
       "    .dataframe tbody tr th:only-of-type {\n",
       "        vertical-align: middle;\n",
       "    }\n",
       "\n",
       "    .dataframe tbody tr th {\n",
       "        vertical-align: top;\n",
       "    }\n",
       "\n",
       "    .dataframe thead th {\n",
       "        text-align: right;\n",
       "    }\n",
       "</style>\n",
       "<table border=\"1\" class=\"dataframe\">\n",
       "  <thead>\n",
       "    <tr style=\"text-align: right;\">\n",
       "      <th></th>\n",
       "      <th>id</th>\n",
       "      <th>smoking</th>\n",
       "    </tr>\n",
       "  </thead>\n",
       "  <tbody>\n",
       "    <tr>\n",
       "      <th>0</th>\n",
       "      <td>15000</td>\n",
       "      <td>0.81</td>\n",
       "    </tr>\n",
       "    <tr>\n",
       "      <th>1</th>\n",
       "      <td>15001</td>\n",
       "      <td>0.01</td>\n",
       "    </tr>\n",
       "    <tr>\n",
       "      <th>2</th>\n",
       "      <td>15002</td>\n",
       "      <td>0.02</td>\n",
       "    </tr>\n",
       "    <tr>\n",
       "      <th>3</th>\n",
       "      <td>15003</td>\n",
       "      <td>0.04</td>\n",
       "    </tr>\n",
       "    <tr>\n",
       "      <th>4</th>\n",
       "      <td>15004</td>\n",
       "      <td>0.52</td>\n",
       "    </tr>\n",
       "  </tbody>\n",
       "</table>\n",
       "</div>"
      ],
      "text/plain": [
       "      id  smoking\n",
       "0  15000     0.81\n",
       "1  15001     0.01\n",
       "2  15002     0.02\n",
       "3  15003     0.04\n",
       "4  15004     0.52"
      ]
     },
     "execution_count": 64,
     "metadata": {},
     "output_type": "execute_result"
    }
   ],
   "source": [
    "submission = pd.DataFrame({\n",
    "    'id': test_data['id'],\n",
    "    'smoking': y_test_pred_prob_rounded  # Use y_test_pred_prob if not applying custom rounding\n",
    "})\n",
    "\n",
    "# assert submission.isnull().sum().sum() == 0, \"Submission contains missing values.\"\n",
    "# assert set(submission.columns) == {'id', 'smoking'}, \"Submission columns mismatch.\"\n",
    "\n",
    "submission.head()\n"
   ]
  },
  {
   "cell_type": "markdown",
   "metadata": {},
   "source": [
    "#### Explanation\n",
    "DataFrame: Contains id and the predicted smoking probabilities.\n",
    "\n",
    "Assertions: Ensure there are no missing values and the correct columns are present."
   ]
  },
  {
   "cell_type": "markdown",
   "metadata": {},
   "source": [
    "### 19. Saving the Submission File\n"
   ]
  },
  {
   "cell_type": "code",
   "execution_count": 65,
   "metadata": {},
   "outputs": [
    {
     "name": "stderr",
     "output_type": "stream",
     "text": [
      "2024-10-28 17:55:43,453 [INFO] Submission file saved as 'submission_smoking_random_forest_optuna11.csv'\n"
     ]
    }
   ],
   "source": [
    "submission.to_csv('submission_smoking_random_forest_optuna11.csv', index=False)\n",
    "logger.info(\"Submission file saved as 'submission_smoking_random_forest_optuna11.csv'\")\n"
   ]
  },
  {
   "cell_type": "markdown",
   "metadata": {},
   "source": [
    "### 20.Conclusion\n",
    "In this notebook, we've built a complete machine learning pipeline to predict smoking status using a Random Forest Classifier. We've covered data loading, exploratory data analysis (EDA), preprocessing, handling class imbalance, hyperparameter optimization with Optuna, model evaluation, and preparing submission files. Additionally, we've visualized model performance and feature importances to gain insights into the model's behavior.\n",
    "\n",
    "Key Takeaways:\n",
    "\n",
    "    Preprocessing: Proper data preprocessing is crucial for model performance.\n",
    "    \n",
    "    Hyperparameter Optimization: Tools like Optuna can significantly enhance model performance by finding optimal hyperparameters.\n",
    "    \n",
    "    Model Evaluation: Using multiple metrics and visualizations provides a comprehensive understanding of model performance.\n",
    "\n",
    "    Feature Importance: Understanding which features influence the model helps in feature selection and gaining domain insights.\n",
    "\n",
    "This workflow serves as a versatile template for various classification problems and can be adapted to suit different datasets and objectives."
   ]
  },
  {
   "cell_type": "markdown",
   "metadata": {},
   "source": [
    "### Additional Notes\n",
    "\n",
    "Reproducibility: Setting random states ensures that results are reproducible.\n",
    "\n",
    "Scalability: Pipelines and transformers make the workflow scalable and maintainable.\n",
    "\n",
    "Visualization: Always visualize results to interpret and validate your models effectively."
   ]
  }
 ],
 "metadata": {
  "kernelspec": {
   "display_name": "Python 3",
   "language": "python",
   "name": "python3"
  },
  "language_info": {
   "codemirror_mode": {
    "name": "ipython",
    "version": 3
   },
   "file_extension": ".py",
   "mimetype": "text/x-python",
   "name": "python",
   "nbconvert_exporter": "python",
   "pygments_lexer": "ipython3",
   "version": "3.11.5"
  }
 },
 "nbformat": 4,
 "nbformat_minor": 2
}
